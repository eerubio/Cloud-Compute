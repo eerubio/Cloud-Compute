{
  "nbformat": 4,
  "nbformat_minor": 0,
  "metadata": {
    "colab": {
      "provenance": [],
      "include_colab_link": true
    },
    "kernelspec": {
      "name": "python3",
      "display_name": "Python 3"
    },
    "language_info": {
      "name": "python"
    }
  },
  "cells": [
    {
      "cell_type": "markdown",
      "metadata": {
        "id": "view-in-github",
        "colab_type": "text"
      },
      "source": [
        "<a href=\"https://colab.research.google.com/github/eerubio/Cloud-Compute/blob/main/Equipo_06_Semana_05.ipynb\" target=\"_parent\"><img src=\"https://colab.research.google.com/assets/colab-badge.svg\" alt=\"Open In Colab\"/></a>"
      ]
    },
    {
      "cell_type": "markdown",
      "source": [
        "![tec.jpeg](data:image/jpeg;base64,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)\n",
        "\n",
        "# **Maestría en Inteligencia Artificial Aplicada**\n",
        "## **Curso: Inteligencia Artificial y Aprendizaje Automático**\n",
        "### Tecnológico de Monterrey\n",
        "### Prof. Luis Eduardo Falcón Morales\n",
        "\n",
        "## **Actividad Semana 5**\n",
        "### **Continuando con caso de estudio: Amazon-Yelp-Imdb**\n",
        "\n",
        "Fernando Maytorena Espinosa de los Monteros | A01110946\n",
        "\n",
        "Jonathan Garza Bennet | A01793038\n",
        "\n",
        "Ernesto Enríquez Rubio | A01228409\n",
        "\n",
        "David Andrés González Medina | A01794025\n",
        "\n",
        "Helmy Andrea Moreno Navarro | A01793918"
      ],
      "metadata": {
        "id": "Oy_0dyPvo-tj"
      }
    },
    {
      "cell_type": "markdown",
      "source": [
        "#**Objetivo de la Actividad**\n",
        "\n",
        "\n",
        "> Trabajar con estos modelos pre-entrenados, generando el vocabulario a partir de tu conjunto de datos de entrenamiento.\n",
        "\n",
        "Para cada palabra de tu vocabulario, podrás sustituirlo por su correspondiente\n",
        "vector continuo. En caso de que no exista el vector para una palabra en particular, se puede eliminar dicha palabra, o bien sustituirla por el vector continuo más cercano.\n",
        "\n",
        "En esta actividad deberás aplicar esta segunda opción.\n",
        "\n",
        "-----\n",
        "\n",
        "*   Existen diversas propuestas para utilizar dichos vectores continuos como entrada para modelos de aprendizaje automático. En particular, en esta actividad cada enunciado será sustituido por el vector promedio de todos los tokens que lo forman.\n",
        "\n",
        "**Modelos:**\n",
        "\n",
        "Modelo de vectores **continuos/embebidos FastText**, es decir, el modelo desarrollado por Facebook en 2016."
      ],
      "metadata": {
        "id": "Xq_UEIE1t75y"
      }
    },
    {
      "cell_type": "markdown",
      "source": [
        "##**Pregunta 1**\n",
        "\n",
        "Descarga los **3 archivos de Canvas**. En particular, el archivo de datos de **IMDb** ya no requiere transformarse **para obtener sus 1000 registros**. Al cargar los datos de los tres archivos deberás tener un **DataFrame de Pandas de 3000 registros**, con sus etiquetas. Los archivos los encuentras en Canvas y se llaman: **amazon5.txt, imdb5.txt, yelp5.txt.**"
      ],
      "metadata": {
        "id": "3D1AhgmjvJ9C"
      }
    },
    {
      "cell_type": "code",
      "source": [
        "!pip install fasttext"
      ],
      "metadata": {
        "id": "KgzNK8qQ0zw7",
        "outputId": "038ea349-663f-4483-e51e-3fd440ccaddf",
        "colab": {
          "base_uri": "https://localhost:8080/"
        }
      },
      "execution_count": 1,
      "outputs": [
        {
          "output_type": "stream",
          "name": "stdout",
          "text": [
            "Looking in indexes: https://pypi.org/simple, https://us-python.pkg.dev/colab-wheels/public/simple/\n",
            "Collecting fasttext\n",
            "  Downloading fasttext-0.9.2.tar.gz (68 kB)\n",
            "\u001b[2K     \u001b[90m━━━━━━━━━━━━━━━━━━━━━━━━━━━━━━━━━━━━━━━━\u001b[0m \u001b[32m68.8/68.8 kB\u001b[0m \u001b[31m1.4 MB/s\u001b[0m eta \u001b[36m0:00:00\u001b[0m\n",
            "\u001b[?25h  Preparing metadata (setup.py) ... \u001b[?25l\u001b[?25hdone\n",
            "Collecting pybind11>=2.2 (from fasttext)\n",
            "  Using cached pybind11-2.10.4-py3-none-any.whl (222 kB)\n",
            "Requirement already satisfied: setuptools>=0.7.0 in /usr/local/lib/python3.10/dist-packages (from fasttext) (67.7.2)\n",
            "Requirement already satisfied: numpy in /usr/local/lib/python3.10/dist-packages (from fasttext) (1.22.4)\n",
            "Building wheels for collected packages: fasttext\n",
            "  Building wheel for fasttext (setup.py) ... \u001b[?25l\u001b[?25hdone\n",
            "  Created wheel for fasttext: filename=fasttext-0.9.2-cp310-cp310-linux_x86_64.whl size=4393382 sha256=4199eaa3208f32561c765e60a68faca2acc79f043f076696a5e3f8feb54b62be\n",
            "  Stored in directory: /root/.cache/pip/wheels/a5/13/75/f811c84a8ab36eedbaef977a6a58a98990e8e0f1967f98f394\n",
            "Successfully built fasttext\n",
            "Installing collected packages: pybind11, fasttext\n",
            "Successfully installed fasttext-0.9.2 pybind11-2.10.4\n"
          ]
        }
      ]
    },
    {
      "cell_type": "code",
      "source": [
        "import pandas as pd  \n",
        "import numpy as np\n",
        "\n",
        "import re\n",
        "import string\n",
        "\n",
        "import fasttext\n",
        "\n",
        "import nltk\n",
        "from nltk.corpus import stopwords, wordnet\n",
        "from nltk.tokenize import word_tokenize\n",
        "\n",
        "from nltk.stem import PorterStemmer, WordNetLemmatizer, RegexpStemmer\n",
        "\n",
        "from sklearn.model_selection import train_test_split\n",
        "\n",
        "nltk.download('wordnet')"
      ],
      "metadata": {
        "id": "tZ_8l4dhwEWV",
        "colab": {
          "base_uri": "https://localhost:8080/"
        },
        "outputId": "3be7b945-2e6b-402e-9541-580f54a53f66"
      },
      "execution_count": 2,
      "outputs": [
        {
          "output_type": "stream",
          "name": "stderr",
          "text": [
            "[nltk_data] Downloading package wordnet to /root/nltk_data...\n"
          ]
        },
        {
          "output_type": "execute_result",
          "data": {
            "text/plain": [
              "True"
            ]
          },
          "metadata": {},
          "execution_count": 2
        }
      ]
    },
    {
      "cell_type": "code",
      "source": [
        "!wget https://dl.fbaipublicfiles.com/fasttext/vectors-crawl/cc.en.300.vec.gz\n",
        "!gunzip cc.en.300.vec.gz"
      ],
      "metadata": {
        "id": "5JFdsxNv67X0",
        "outputId": "d3710e07-9e4b-4eb6-b754-3495f0136094",
        "colab": {
          "base_uri": "https://localhost:8080/"
        }
      },
      "execution_count": 3,
      "outputs": [
        {
          "output_type": "stream",
          "name": "stdout",
          "text": [
            "--2023-05-21 23:46:52--  https://dl.fbaipublicfiles.com/fasttext/vectors-crawl/cc.en.300.vec.gz\n",
            "Resolving dl.fbaipublicfiles.com (dl.fbaipublicfiles.com)... 13.227.219.59, 13.227.219.33, 13.227.219.10, ...\n",
            "Connecting to dl.fbaipublicfiles.com (dl.fbaipublicfiles.com)|13.227.219.59|:443... connected.\n",
            "HTTP request sent, awaiting response... 200 OK\n",
            "Length: 1325960915 (1.2G) [binary/octet-stream]\n",
            "Saving to: ‘cc.en.300.vec.gz’\n",
            "\n",
            "cc.en.300.vec.gz    100%[===================>]   1.23G   238MB/s    in 5.5s    \n",
            "\n",
            "2023-05-21 23:46:58 (232 MB/s) - ‘cc.en.300.vec.gz’ saved [1325960915/1325960915]\n",
            "\n"
          ]
        }
      ]
    },
    {
      "cell_type": "markdown",
      "source": [
        "#**Aplicando NLTK**"
      ],
      "metadata": {
        "id": "6uGjkDFP4vtr"
      }
    },
    {
      "cell_type": "code",
      "source": [
        "nltk.download('punkt')        # Tokenizador que ayuda a dividr el texto en enunciados\n",
        "nltk.download('stopwords')    # Acceso a \"stopwords\" en varios idiomas."
      ],
      "metadata": {
        "id": "3nyPbMQ5v7Ly",
        "outputId": "4fa49b5f-feca-4f5d-dc97-4cfd7594ab6c",
        "colab": {
          "base_uri": "https://localhost:8080/"
        }
      },
      "execution_count": 4,
      "outputs": [
        {
          "output_type": "stream",
          "name": "stderr",
          "text": [
            "[nltk_data] Downloading package punkt to /root/nltk_data...\n",
            "[nltk_data]   Unzipping tokenizers/punkt.zip.\n",
            "[nltk_data] Downloading package stopwords to /root/nltk_data...\n",
            "[nltk_data]   Unzipping corpora/stopwords.zip.\n"
          ]
        },
        {
          "output_type": "execute_result",
          "data": {
            "text/plain": [
              "True"
            ]
          },
          "metadata": {},
          "execution_count": 4
        }
      ]
    },
    {
      "cell_type": "code",
      "source": [
        "# Lista de stopwords que se incluyen de manera predeterminada la suite de librerías de NLTK\n",
        "\n",
        "print(len(stopwords.words('english')))\n",
        "print(stopwords.words('english'))"
      ],
      "metadata": {
        "id": "uIq_dbSr0EmT",
        "outputId": "ff727a03-42b8-4b09-9f85-15d958e67974",
        "colab": {
          "base_uri": "https://localhost:8080/"
        }
      },
      "execution_count": 5,
      "outputs": [
        {
          "output_type": "stream",
          "name": "stdout",
          "text": [
            "179\n",
            "['i', 'me', 'my', 'myself', 'we', 'our', 'ours', 'ourselves', 'you', \"you're\", \"you've\", \"you'll\", \"you'd\", 'your', 'yours', 'yourself', 'yourselves', 'he', 'him', 'his', 'himself', 'she', \"she's\", 'her', 'hers', 'herself', 'it', \"it's\", 'its', 'itself', 'they', 'them', 'their', 'theirs', 'themselves', 'what', 'which', 'who', 'whom', 'this', 'that', \"that'll\", 'these', 'those', 'am', 'is', 'are', 'was', 'were', 'be', 'been', 'being', 'have', 'has', 'had', 'having', 'do', 'does', 'did', 'doing', 'a', 'an', 'the', 'and', 'but', 'if', 'or', 'because', 'as', 'until', 'while', 'of', 'at', 'by', 'for', 'with', 'about', 'against', 'between', 'into', 'through', 'during', 'before', 'after', 'above', 'below', 'to', 'from', 'up', 'down', 'in', 'out', 'on', 'off', 'over', 'under', 'again', 'further', 'then', 'once', 'here', 'there', 'when', 'where', 'why', 'how', 'all', 'any', 'both', 'each', 'few', 'more', 'most', 'other', 'some', 'such', 'no', 'nor', 'not', 'only', 'own', 'same', 'so', 'than', 'too', 'very', 's', 't', 'can', 'will', 'just', 'don', \"don't\", 'should', \"should've\", 'now', 'd', 'll', 'm', 'o', 're', 've', 'y', 'ain', 'aren', \"aren't\", 'couldn', \"couldn't\", 'didn', \"didn't\", 'doesn', \"doesn't\", 'hadn', \"hadn't\", 'hasn', \"hasn't\", 'haven', \"haven't\", 'isn', \"isn't\", 'ma', 'mightn', \"mightn't\", 'mustn', \"mustn't\", 'needn', \"needn't\", 'shan', \"shan't\", 'shouldn', \"shouldn't\", 'wasn', \"wasn't\", 'weren', \"weren't\", 'won', \"won't\", 'wouldn', \"wouldn't\"]\n"
          ]
        }
      ]
    },
    {
      "cell_type": "code",
      "source": [
        "#Se extraen los archivos desde repositorio público de GitHub\n",
        "url1 = 'https://raw.githubusercontent.com/Handrum/NLP_EQ_6/main/amazon5.txt'\n",
        "url2 = 'https://raw.githubusercontent.com/Handrum/NLP_EQ_6/main/imdb5.txt'\n",
        "url3 = 'https://raw.githubusercontent.com/Handrum/NLP_EQ_6/main/yelp5.txt'\n",
        "\n",
        "#Se cargan los archivos en dataframe de Pandas\n",
        "dfa5 = pd.read_csv(url1, sep='\\t', names=['review','label'], header=None, encoding='utf-8')\n",
        "dfi5 = pd.read_csv(url2, sep=' {3,4}', names=['review','label'], header=None, encoding='utf-8')\n",
        "dfy5 = pd.read_csv(url3, sep='\\t', names=['review','label'], header=None, encoding='utf-8')\n",
        "\n",
        "#Se imprime la forma de los dataframes\n",
        "print('Total de registros de Amazon_5:',dfa5.shape)\n",
        "print('Total de registros de IMBD_5:',dfi5.shape)\n",
        "print('Total de registros de Yelp_5:',dfy5.shape)"
      ],
      "metadata": {
        "colab": {
          "base_uri": "https://localhost:8080/"
        },
        "id": "fzJpjSXPvdRC",
        "outputId": "b88be6fd-10ba-414e-b40f-0256889d8849"
      },
      "execution_count": 6,
      "outputs": [
        {
          "output_type": "stream",
          "name": "stderr",
          "text": [
            "<ipython-input-6-dd740832e87d>:8: ParserWarning: Falling back to the 'python' engine because the 'c' engine does not support regex separators (separators > 1 char and different from '\\s+' are interpreted as regex); you can avoid this warning by specifying engine='python'.\n",
            "  dfi5 = pd.read_csv(url2, sep=' {3,4}', names=['review','label'], header=None, encoding='utf-8')\n"
          ]
        },
        {
          "output_type": "stream",
          "name": "stdout",
          "text": [
            "Total de registros de Amazon_5: (1000, 2)\n",
            "Total de registros de IMBD_5: (1000, 2)\n",
            "Total de registros de Yelp_5: (1000, 2)\n"
          ]
        }
      ]
    },
    {
      "cell_type": "code",
      "source": [
        "dfi5.head()"
      ],
      "metadata": {
        "id": "dOAHRDNEz6sY",
        "outputId": "7bba7e32-1399-4006-e7b4-984de075541a",
        "colab": {
          "base_uri": "https://localhost:8080/",
          "height": 206
        }
      },
      "execution_count": 7,
      "outputs": [
        {
          "output_type": "execute_result",
          "data": {
            "text/plain": [
              "                                              review  label\n",
              "0  A very, very, very slow-moving, aimless movie ...      0\n",
              "1  Not sure who was more lost - the flat characte...      0\n",
              "2  Attempting artiness with black & white and cle...      0\n",
              "3         Very little music or anything to speak of.      0\n",
              "4  The best scene in the movie was when Gerardo i...      1"
            ],
            "text/html": [
              "\n",
              "  <div id=\"df-2154000c-d879-4529-9e41-0af503ed00d4\">\n",
              "    <div class=\"colab-df-container\">\n",
              "      <div>\n",
              "<style scoped>\n",
              "    .dataframe tbody tr th:only-of-type {\n",
              "        vertical-align: middle;\n",
              "    }\n",
              "\n",
              "    .dataframe tbody tr th {\n",
              "        vertical-align: top;\n",
              "    }\n",
              "\n",
              "    .dataframe thead th {\n",
              "        text-align: right;\n",
              "    }\n",
              "</style>\n",
              "<table border=\"1\" class=\"dataframe\">\n",
              "  <thead>\n",
              "    <tr style=\"text-align: right;\">\n",
              "      <th></th>\n",
              "      <th>review</th>\n",
              "      <th>label</th>\n",
              "    </tr>\n",
              "  </thead>\n",
              "  <tbody>\n",
              "    <tr>\n",
              "      <th>0</th>\n",
              "      <td>A very, very, very slow-moving, aimless movie ...</td>\n",
              "      <td>0</td>\n",
              "    </tr>\n",
              "    <tr>\n",
              "      <th>1</th>\n",
              "      <td>Not sure who was more lost - the flat characte...</td>\n",
              "      <td>0</td>\n",
              "    </tr>\n",
              "    <tr>\n",
              "      <th>2</th>\n",
              "      <td>Attempting artiness with black &amp; white and cle...</td>\n",
              "      <td>0</td>\n",
              "    </tr>\n",
              "    <tr>\n",
              "      <th>3</th>\n",
              "      <td>Very little music or anything to speak of.</td>\n",
              "      <td>0</td>\n",
              "    </tr>\n",
              "    <tr>\n",
              "      <th>4</th>\n",
              "      <td>The best scene in the movie was when Gerardo i...</td>\n",
              "      <td>1</td>\n",
              "    </tr>\n",
              "  </tbody>\n",
              "</table>\n",
              "</div>\n",
              "      <button class=\"colab-df-convert\" onclick=\"convertToInteractive('df-2154000c-d879-4529-9e41-0af503ed00d4')\"\n",
              "              title=\"Convert this dataframe to an interactive table.\"\n",
              "              style=\"display:none;\">\n",
              "        \n",
              "  <svg xmlns=\"http://www.w3.org/2000/svg\" height=\"24px\"viewBox=\"0 0 24 24\"\n",
              "       width=\"24px\">\n",
              "    <path d=\"M0 0h24v24H0V0z\" fill=\"none\"/>\n",
              "    <path d=\"M18.56 5.44l.94 2.06.94-2.06 2.06-.94-2.06-.94-.94-2.06-.94 2.06-2.06.94zm-11 1L8.5 8.5l.94-2.06 2.06-.94-2.06-.94L8.5 2.5l-.94 2.06-2.06.94zm10 10l.94 2.06.94-2.06 2.06-.94-2.06-.94-.94-2.06-.94 2.06-2.06.94z\"/><path d=\"M17.41 7.96l-1.37-1.37c-.4-.4-.92-.59-1.43-.59-.52 0-1.04.2-1.43.59L10.3 9.45l-7.72 7.72c-.78.78-.78 2.05 0 2.83L4 21.41c.39.39.9.59 1.41.59.51 0 1.02-.2 1.41-.59l7.78-7.78 2.81-2.81c.8-.78.8-2.07 0-2.86zM5.41 20L4 18.59l7.72-7.72 1.47 1.35L5.41 20z\"/>\n",
              "  </svg>\n",
              "      </button>\n",
              "      \n",
              "  <style>\n",
              "    .colab-df-container {\n",
              "      display:flex;\n",
              "      flex-wrap:wrap;\n",
              "      gap: 12px;\n",
              "    }\n",
              "\n",
              "    .colab-df-convert {\n",
              "      background-color: #E8F0FE;\n",
              "      border: none;\n",
              "      border-radius: 50%;\n",
              "      cursor: pointer;\n",
              "      display: none;\n",
              "      fill: #1967D2;\n",
              "      height: 32px;\n",
              "      padding: 0 0 0 0;\n",
              "      width: 32px;\n",
              "    }\n",
              "\n",
              "    .colab-df-convert:hover {\n",
              "      background-color: #E2EBFA;\n",
              "      box-shadow: 0px 1px 2px rgba(60, 64, 67, 0.3), 0px 1px 3px 1px rgba(60, 64, 67, 0.15);\n",
              "      fill: #174EA6;\n",
              "    }\n",
              "\n",
              "    [theme=dark] .colab-df-convert {\n",
              "      background-color: #3B4455;\n",
              "      fill: #D2E3FC;\n",
              "    }\n",
              "\n",
              "    [theme=dark] .colab-df-convert:hover {\n",
              "      background-color: #434B5C;\n",
              "      box-shadow: 0px 1px 3px 1px rgba(0, 0, 0, 0.15);\n",
              "      filter: drop-shadow(0px 1px 2px rgba(0, 0, 0, 0.3));\n",
              "      fill: #FFFFFF;\n",
              "    }\n",
              "  </style>\n",
              "\n",
              "      <script>\n",
              "        const buttonEl =\n",
              "          document.querySelector('#df-2154000c-d879-4529-9e41-0af503ed00d4 button.colab-df-convert');\n",
              "        buttonEl.style.display =\n",
              "          google.colab.kernel.accessAllowed ? 'block' : 'none';\n",
              "\n",
              "        async function convertToInteractive(key) {\n",
              "          const element = document.querySelector('#df-2154000c-d879-4529-9e41-0af503ed00d4');\n",
              "          const dataTable =\n",
              "            await google.colab.kernel.invokeFunction('convertToInteractive',\n",
              "                                                     [key], {});\n",
              "          if (!dataTable) return;\n",
              "\n",
              "          const docLinkHtml = 'Like what you see? Visit the ' +\n",
              "            '<a target=\"_blank\" href=https://colab.research.google.com/notebooks/data_table.ipynb>data table notebook</a>'\n",
              "            + ' to learn more about interactive tables.';\n",
              "          element.innerHTML = '';\n",
              "          dataTable['output_type'] = 'display_data';\n",
              "          await google.colab.output.renderOutput(dataTable, element);\n",
              "          const docLink = document.createElement('div');\n",
              "          docLink.innerHTML = docLinkHtml;\n",
              "          element.appendChild(docLink);\n",
              "        }\n",
              "      </script>\n",
              "    </div>\n",
              "  </div>\n",
              "  "
            ]
          },
          "metadata": {},
          "execution_count": 7
        }
      ]
    },
    {
      "cell_type": "code",
      "source": [
        "#Concatenar los 3,000 registros\n",
        "\n",
        "df = pd.concat([dfa5, dfi5, dfy5], ignore_index=True)\n",
        "df.info()"
      ],
      "metadata": {
        "colab": {
          "base_uri": "https://localhost:8080/"
        },
        "id": "CQyhZt_z_rg0",
        "outputId": "3c14010e-d7e0-4ac5-d4a8-bbae41b95610"
      },
      "execution_count": 8,
      "outputs": [
        {
          "output_type": "stream",
          "name": "stdout",
          "text": [
            "<class 'pandas.core.frame.DataFrame'>\n",
            "RangeIndex: 3000 entries, 0 to 2999\n",
            "Data columns (total 2 columns):\n",
            " #   Column  Non-Null Count  Dtype \n",
            "---  ------  --------------  ----- \n",
            " 0   review  3000 non-null   object\n",
            " 1   label   3000 non-null   int64 \n",
            "dtypes: int64(1), object(1)\n",
            "memory usage: 47.0+ KB\n"
          ]
        }
      ]
    },
    {
      "cell_type": "markdown",
      "source": [
        "Al realizar la revisión del conjunto de datos se observa que el dataset de **imdb5** tiene 1.000 flotantes. Lo que requiere una limpieza especial para dicho dataset. --- **Sin embargo, se encontró que al cargar con el separador correcto, el siguiente paso no es necesario**."
      ],
      "metadata": {
        "id": "6A-W_SItAd_T"
      }
    },
    {
      "cell_type": "code",
      "source": [
        "#dfi5.info()"
      ],
      "metadata": {
        "id": "kryovbUFAF2F"
      },
      "execution_count": 9,
      "outputs": []
    },
    {
      "cell_type": "code",
      "source": [
        "#no necesario\n",
        "#print(dfi5_c.isnull().sum())"
      ],
      "metadata": {
        "id": "V1bTBFzOBjes"
      },
      "execution_count": 10,
      "outputs": []
    },
    {
      "cell_type": "code",
      "source": [
        "#no necesario con la limpieza anterior\n",
        "#print(df['label'].isnull().sum())"
      ],
      "metadata": {
        "id": "1s3xzHiQB0HU"
      },
      "execution_count": 11,
      "outputs": []
    },
    {
      "cell_type": "code",
      "source": [
        "#no necesario con la limpieza anterior\n",
        "#dfii5_l = dfi5.fillna(0)\n",
        "#dfii5_l.head()"
      ],
      "metadata": {
        "id": "txUZL511EdAO"
      },
      "execution_count": 12,
      "outputs": []
    },
    {
      "cell_type": "code",
      "source": [
        "#No necesario con la limpieza anterior\n",
        "#df = pd.concat([dfa5, dfii5_l, dfy5], ignore_index=True)\n",
        "#df.info()"
      ],
      "metadata": {
        "id": "Ci9f44O5GIA1"
      },
      "execution_count": 13,
      "outputs": []
    },
    {
      "cell_type": "code",
      "source": [
        "X = df.review     # Serie de strings\n",
        "Y = df.label      # Serie de enteros 0s y 1s\n",
        "\n",
        "assert X.shape == (3000,)           # verificando que tenemos la dimensiones esperadas.\n",
        "assert Y.shape == (3000,)"
      ],
      "metadata": {
        "id": "N6dqTvNUIGqG"
      },
      "execution_count": 14,
      "outputs": []
    },
    {
      "cell_type": "markdown",
      "source": [
        "#**Pregunta 2**\n",
        "\n",
        "Realiza de nuevo un proceso de limpieza. Aplica el preprocesamiento que consideres adecuado, sin embargo, deberás aplicar necesariamente alguna de las técnicas de lematización. Como aplicaremos modelos embebidos pre-entrenados, queremos palabras lo más cercanas a las existentes en un idioma, inglés en este caso. Aplica y justifica cualquier otro proceso de limpieza que consideres\n",
        "adecuado. Recuerda que en esta actividad se usarán vectores embebidos para un problema de clasificación, por lo que deberás tomar de acuerdo a este contexto. Justifica todas las transformaciones que se apliquen.\n",
        "\n"
      ],
      "metadata": {
        "id": "bl9HFj-u4mnk"
      }
    },
    {
      "cell_type": "markdown",
      "source": [
        "**Procedimiento para quitar las negaciones del conjunto de stopwords en caso de ser necesario**"
      ],
      "metadata": {
        "id": "FyZ7I3P12JbD"
      }
    },
    {
      "cell_type": "code",
      "source": [
        "# Consideremos la siguiente lista de palabras asociada a negaciones en inglés:\n",
        "\n",
        "mystopwords = stopwords.words('english')\n",
        "\n",
        "negwords = [ 'no', 'nor', 'not', 'ain', 'aren', \"aren't\", 'don', \"don't\", 'couldn', \"couldn't\", 'didn', \"didn't\", 'doesn', \"doesn't\", 'hadn', \"hadn't\", 'hasn', \"hasn't\", 'haven', \"haven't\", 'isn', \"isn't\", 'mightn', \"mightn't\", 'mustn', \"mustn't\", 'needn', \"needn't\", 'shan', \"shan't\", 'shouldn', \"shouldn't\", 'wasn', \"wasn't\", 'weren', \"weren't\", 'won', \"won't\", 'wouldn', \"wouldn't\"]\n",
        "\n",
        "#Se asigna las stopwords de NLTK a mystopwords\n",
        "mystopwords_without_neg = stopwords.words('english')\n",
        "\n",
        "#Se revisa si cada una de las palabras en negwords está presente en mystopwords\n",
        "for word in negwords:\n",
        "  if word in mystopwords_without_neg:\n",
        "    mystopwords_without_neg.remove(word)           # si la palabra está presente, quitarla de la lista\n",
        "\n",
        "#Se imprime la longitud y elementos de negwords para verificar resultados\n",
        "print(len(negwords))\n",
        "print(negwords)\n",
        "\n",
        "#Se imprime la longitud y elementos de los stop words de NLTK para verificar resultados\n",
        "print(len(mystopwords))\n",
        "print(mystopwords)\n",
        "\n",
        "print(len(mystopwords_without_neg))\n",
        "print(mystopwords_without_neg)"
      ],
      "metadata": {
        "id": "OYEURcKY1t-I",
        "outputId": "fdb406f2-3dc6-4bd5-f280-b8e023174784",
        "colab": {
          "base_uri": "https://localhost:8080/"
        }
      },
      "execution_count": 15,
      "outputs": [
        {
          "output_type": "stream",
          "name": "stdout",
          "text": [
            "40\n",
            "['no', 'nor', 'not', 'ain', 'aren', \"aren't\", 'don', \"don't\", 'couldn', \"couldn't\", 'didn', \"didn't\", 'doesn', \"doesn't\", 'hadn', \"hadn't\", 'hasn', \"hasn't\", 'haven', \"haven't\", 'isn', \"isn't\", 'mightn', \"mightn't\", 'mustn', \"mustn't\", 'needn', \"needn't\", 'shan', \"shan't\", 'shouldn', \"shouldn't\", 'wasn', \"wasn't\", 'weren', \"weren't\", 'won', \"won't\", 'wouldn', \"wouldn't\"]\n",
            "179\n",
            "['i', 'me', 'my', 'myself', 'we', 'our', 'ours', 'ourselves', 'you', \"you're\", \"you've\", \"you'll\", \"you'd\", 'your', 'yours', 'yourself', 'yourselves', 'he', 'him', 'his', 'himself', 'she', \"she's\", 'her', 'hers', 'herself', 'it', \"it's\", 'its', 'itself', 'they', 'them', 'their', 'theirs', 'themselves', 'what', 'which', 'who', 'whom', 'this', 'that', \"that'll\", 'these', 'those', 'am', 'is', 'are', 'was', 'were', 'be', 'been', 'being', 'have', 'has', 'had', 'having', 'do', 'does', 'did', 'doing', 'a', 'an', 'the', 'and', 'but', 'if', 'or', 'because', 'as', 'until', 'while', 'of', 'at', 'by', 'for', 'with', 'about', 'against', 'between', 'into', 'through', 'during', 'before', 'after', 'above', 'below', 'to', 'from', 'up', 'down', 'in', 'out', 'on', 'off', 'over', 'under', 'again', 'further', 'then', 'once', 'here', 'there', 'when', 'where', 'why', 'how', 'all', 'any', 'both', 'each', 'few', 'more', 'most', 'other', 'some', 'such', 'no', 'nor', 'not', 'only', 'own', 'same', 'so', 'than', 'too', 'very', 's', 't', 'can', 'will', 'just', 'don', \"don't\", 'should', \"should've\", 'now', 'd', 'll', 'm', 'o', 're', 've', 'y', 'ain', 'aren', \"aren't\", 'couldn', \"couldn't\", 'didn', \"didn't\", 'doesn', \"doesn't\", 'hadn', \"hadn't\", 'hasn', \"hasn't\", 'haven', \"haven't\", 'isn', \"isn't\", 'ma', 'mightn', \"mightn't\", 'mustn', \"mustn't\", 'needn', \"needn't\", 'shan', \"shan't\", 'shouldn', \"shouldn't\", 'wasn', \"wasn't\", 'weren', \"weren't\", 'won', \"won't\", 'wouldn', \"wouldn't\"]\n",
            "139\n",
            "['i', 'me', 'my', 'myself', 'we', 'our', 'ours', 'ourselves', 'you', \"you're\", \"you've\", \"you'll\", \"you'd\", 'your', 'yours', 'yourself', 'yourselves', 'he', 'him', 'his', 'himself', 'she', \"she's\", 'her', 'hers', 'herself', 'it', \"it's\", 'its', 'itself', 'they', 'them', 'their', 'theirs', 'themselves', 'what', 'which', 'who', 'whom', 'this', 'that', \"that'll\", 'these', 'those', 'am', 'is', 'are', 'was', 'were', 'be', 'been', 'being', 'have', 'has', 'had', 'having', 'do', 'does', 'did', 'doing', 'a', 'an', 'the', 'and', 'but', 'if', 'or', 'because', 'as', 'until', 'while', 'of', 'at', 'by', 'for', 'with', 'about', 'against', 'between', 'into', 'through', 'during', 'before', 'after', 'above', 'below', 'to', 'from', 'up', 'down', 'in', 'out', 'on', 'off', 'over', 'under', 'again', 'further', 'then', 'once', 'here', 'there', 'when', 'where', 'why', 'how', 'all', 'any', 'both', 'each', 'few', 'more', 'most', 'other', 'some', 'such', 'only', 'own', 'same', 'so', 'than', 'too', 'very', 's', 't', 'can', 'will', 'just', 'should', \"should've\", 'now', 'd', 'll', 'm', 'o', 're', 've', 'y', 'ma']\n"
          ]
        }
      ]
    },
    {
      "cell_type": "code",
      "source": [
        "def clean_tok(doc):\n",
        "  ##############################################################################\n",
        "  # AGREGA AQUÍ TUS LÍNEAS DE CÓDIGO - Pregunta 4:\n",
        "  \n",
        "  # Eliminación de signos de puntuación, caracteres especiales y números.\n",
        "\n",
        "  doc = doc.lower()    #normalización a minúsculas\n",
        "\n",
        "  #Sólo caracteres alfabéticos\n",
        "  puntuacion = re.sub(r'[^a-z]', ' ', doc)                  #considerar solo caracteres alfabéticos\n",
        "  puntuacion = re.sub(r'\\s{2, }', ' ', puntuacion.strip())  #eliminar todo tipo de espacios que se encuentren\n",
        "\n",
        "# Tokenizar\n",
        "  tokenizar = puntuacion.split()                            #tomar el resultado anterior y aplicar método de tokenización a partir del método split\n",
        "\n",
        "# Eliminación de Stopwords\n",
        "\n",
        "  tokens = []\n",
        "\n",
        "  for i in tokenizar:\n",
        "    if i not in mystopwords:                 #en esta ocasión para elimianr los stopwords se toma la librería de corpus el mismo método.\n",
        "      tokens.append(i)\n",
        "\n",
        "  for nwtokens in tokens:\n",
        "    if len(nwtokens)<=1:\n",
        "      tokens.remove(nwtokens)\n",
        "\n",
        "  # FIN PARA AGREGAR TUS LÍNEAS DE CÓDIGO.\n",
        "  ##############################################################################\n",
        "\n",
        "  return tokens"
      ],
      "metadata": {
        "id": "4XLAEojC5Gbr"
      },
      "execution_count": 16,
      "outputs": []
    },
    {
      "cell_type": "code",
      "source": [
        "Xcleantok = [clean_tok(x) for x in X]"
      ],
      "metadata": {
        "id": "h3cUq1k-LBXt"
      },
      "execution_count": 17,
      "outputs": []
    },
    {
      "cell_type": "code",
      "source": [
        "df.head()"
      ],
      "metadata": {
        "id": "QK2ETk5nMCOG",
        "outputId": "5e5ed887-15d3-43f8-ea23-2767be7d894b",
        "colab": {
          "base_uri": "https://localhost:8080/",
          "height": 206
        }
      },
      "execution_count": 18,
      "outputs": [
        {
          "output_type": "execute_result",
          "data": {
            "text/plain": [
              "                                              review  label\n",
              "0  So there is no way for me to plug it in here i...      0\n",
              "1                        Good case, Excellent value.      1\n",
              "2                             Great for the jawbone.      1\n",
              "3  Tied to charger for conversations lasting more...      0\n",
              "4                                  The mic is great.      1"
            ],
            "text/html": [
              "\n",
              "  <div id=\"df-e40d85ce-735b-49ac-8643-469f0f297bdc\">\n",
              "    <div class=\"colab-df-container\">\n",
              "      <div>\n",
              "<style scoped>\n",
              "    .dataframe tbody tr th:only-of-type {\n",
              "        vertical-align: middle;\n",
              "    }\n",
              "\n",
              "    .dataframe tbody tr th {\n",
              "        vertical-align: top;\n",
              "    }\n",
              "\n",
              "    .dataframe thead th {\n",
              "        text-align: right;\n",
              "    }\n",
              "</style>\n",
              "<table border=\"1\" class=\"dataframe\">\n",
              "  <thead>\n",
              "    <tr style=\"text-align: right;\">\n",
              "      <th></th>\n",
              "      <th>review</th>\n",
              "      <th>label</th>\n",
              "    </tr>\n",
              "  </thead>\n",
              "  <tbody>\n",
              "    <tr>\n",
              "      <th>0</th>\n",
              "      <td>So there is no way for me to plug it in here i...</td>\n",
              "      <td>0</td>\n",
              "    </tr>\n",
              "    <tr>\n",
              "      <th>1</th>\n",
              "      <td>Good case, Excellent value.</td>\n",
              "      <td>1</td>\n",
              "    </tr>\n",
              "    <tr>\n",
              "      <th>2</th>\n",
              "      <td>Great for the jawbone.</td>\n",
              "      <td>1</td>\n",
              "    </tr>\n",
              "    <tr>\n",
              "      <th>3</th>\n",
              "      <td>Tied to charger for conversations lasting more...</td>\n",
              "      <td>0</td>\n",
              "    </tr>\n",
              "    <tr>\n",
              "      <th>4</th>\n",
              "      <td>The mic is great.</td>\n",
              "      <td>1</td>\n",
              "    </tr>\n",
              "  </tbody>\n",
              "</table>\n",
              "</div>\n",
              "      <button class=\"colab-df-convert\" onclick=\"convertToInteractive('df-e40d85ce-735b-49ac-8643-469f0f297bdc')\"\n",
              "              title=\"Convert this dataframe to an interactive table.\"\n",
              "              style=\"display:none;\">\n",
              "        \n",
              "  <svg xmlns=\"http://www.w3.org/2000/svg\" height=\"24px\"viewBox=\"0 0 24 24\"\n",
              "       width=\"24px\">\n",
              "    <path d=\"M0 0h24v24H0V0z\" fill=\"none\"/>\n",
              "    <path d=\"M18.56 5.44l.94 2.06.94-2.06 2.06-.94-2.06-.94-.94-2.06-.94 2.06-2.06.94zm-11 1L8.5 8.5l.94-2.06 2.06-.94-2.06-.94L8.5 2.5l-.94 2.06-2.06.94zm10 10l.94 2.06.94-2.06 2.06-.94-2.06-.94-.94-2.06-.94 2.06-2.06.94z\"/><path d=\"M17.41 7.96l-1.37-1.37c-.4-.4-.92-.59-1.43-.59-.52 0-1.04.2-1.43.59L10.3 9.45l-7.72 7.72c-.78.78-.78 2.05 0 2.83L4 21.41c.39.39.9.59 1.41.59.51 0 1.02-.2 1.41-.59l7.78-7.78 2.81-2.81c.8-.78.8-2.07 0-2.86zM5.41 20L4 18.59l7.72-7.72 1.47 1.35L5.41 20z\"/>\n",
              "  </svg>\n",
              "      </button>\n",
              "      \n",
              "  <style>\n",
              "    .colab-df-container {\n",
              "      display:flex;\n",
              "      flex-wrap:wrap;\n",
              "      gap: 12px;\n",
              "    }\n",
              "\n",
              "    .colab-df-convert {\n",
              "      background-color: #E8F0FE;\n",
              "      border: none;\n",
              "      border-radius: 50%;\n",
              "      cursor: pointer;\n",
              "      display: none;\n",
              "      fill: #1967D2;\n",
              "      height: 32px;\n",
              "      padding: 0 0 0 0;\n",
              "      width: 32px;\n",
              "    }\n",
              "\n",
              "    .colab-df-convert:hover {\n",
              "      background-color: #E2EBFA;\n",
              "      box-shadow: 0px 1px 2px rgba(60, 64, 67, 0.3), 0px 1px 3px 1px rgba(60, 64, 67, 0.15);\n",
              "      fill: #174EA6;\n",
              "    }\n",
              "\n",
              "    [theme=dark] .colab-df-convert {\n",
              "      background-color: #3B4455;\n",
              "      fill: #D2E3FC;\n",
              "    }\n",
              "\n",
              "    [theme=dark] .colab-df-convert:hover {\n",
              "      background-color: #434B5C;\n",
              "      box-shadow: 0px 1px 3px 1px rgba(0, 0, 0, 0.15);\n",
              "      filter: drop-shadow(0px 1px 2px rgba(0, 0, 0, 0.3));\n",
              "      fill: #FFFFFF;\n",
              "    }\n",
              "  </style>\n",
              "\n",
              "      <script>\n",
              "        const buttonEl =\n",
              "          document.querySelector('#df-e40d85ce-735b-49ac-8643-469f0f297bdc button.colab-df-convert');\n",
              "        buttonEl.style.display =\n",
              "          google.colab.kernel.accessAllowed ? 'block' : 'none';\n",
              "\n",
              "        async function convertToInteractive(key) {\n",
              "          const element = document.querySelector('#df-e40d85ce-735b-49ac-8643-469f0f297bdc');\n",
              "          const dataTable =\n",
              "            await google.colab.kernel.invokeFunction('convertToInteractive',\n",
              "                                                     [key], {});\n",
              "          if (!dataTable) return;\n",
              "\n",
              "          const docLinkHtml = 'Like what you see? Visit the ' +\n",
              "            '<a target=\"_blank\" href=https://colab.research.google.com/notebooks/data_table.ipynb>data table notebook</a>'\n",
              "            + ' to learn more about interactive tables.';\n",
              "          element.innerHTML = '';\n",
              "          dataTable['output_type'] = 'display_data';\n",
              "          await google.colab.output.renderOutput(dataTable, element);\n",
              "          const docLink = document.createElement('div');\n",
              "          docLink.innerHTML = docLinkHtml;\n",
              "          element.appendChild(docLink);\n",
              "        }\n",
              "      </script>\n",
              "    </div>\n",
              "  </div>\n",
              "  "
            ]
          },
          "metadata": {},
          "execution_count": 18
        }
      ]
    },
    {
      "cell_type": "code",
      "source": [
        "for x in Xcleantok[0:5]:\n",
        "  print(x)"
      ],
      "metadata": {
        "colab": {
          "base_uri": "https://localhost:8080/"
        },
        "id": "lXM_3HnKLIxl",
        "outputId": "d36aaf59-de5a-4b1a-b0ef-b8839d6a3c12"
      },
      "execution_count": 19,
      "outputs": [
        {
          "output_type": "stream",
          "name": "stdout",
          "text": [
            "['way', 'plug', 'us', 'unless', 'go', 'converter']\n",
            "['good', 'case', 'excellent', 'value']\n",
            "['great', 'jawbone']\n",
            "['tied', 'charger', 'conversations', 'lasting', 'minutes', 'major', 'problems']\n",
            "['mic', 'great']\n"
          ]
        }
      ]
    },
    {
      "cell_type": "markdown",
      "source": [
        "#**Método Limpieza por Lematizazión**"
      ],
      "metadata": {
        "id": "cDs04xbyRyh2"
      }
    },
    {
      "cell_type": "code",
      "source": [
        "#lista vacía para análisis visual\n",
        "palabras = []\n",
        "\n",
        "#ciclo para juntar todos los tokens previos en una lista\n",
        "for tokens1 in Xcleantok:\n",
        "\n",
        "  palabras.extend(tokens1)\n",
        "\n",
        "#Set para eliminar repeticiones\n",
        "dic = set(palabras)\n",
        "\n",
        "#Imprimir resultados para análisis visual\n",
        "print(sorted(dic))\n",
        "\n",
        "\n",
        "#Se crea un objeto de la clase PorterStemmer\n",
        "#ps = PorterStemmer() #Se requiere usar lematización para utilizar el método de vectores embebidos\n",
        "\n",
        "#Se crea un objeto de la clase WordNetLemmatizer\n",
        "WNL = WordNetLemmatizer()\n",
        "\n",
        "#Definición de la función de limpieza adicional\n",
        "def clean_doc(doc):\n",
        "\n",
        "  #Se define lista vacía para los nuevos tokens\n",
        "  # tokens = stemmer_tokens(doc)\n",
        "  tokens = []\n",
        "\n",
        "  #Ciclo para la limpieza de los tokens\n",
        "  for j in range(0,len(doc)):\n",
        "\n",
        "    #Encontar todas las variantes de so, good, fox, way y frequently\n",
        "    so = re.findall(r\"so{2,}\\b\", doc[j])\n",
        "    good = re.findall(r\"go{2,}d{1,}\\b\", doc[j])\n",
        "    fox = re.findall(r\"fo{1,}x{1,}\\b\", doc[j])\n",
        "    way = re.findall(r\"wa{1,}y{1,}\\b\", doc[j])\n",
        "    frequently = re.findall(r\"frequent*[a-z]+ly\\b\", doc[j])\n",
        "\n",
        "    #Si se encontraron variantes de 'so', reemplazarlas\n",
        "    if len(so) > 0:\n",
        "\n",
        "      doc[j] = 'so'\n",
        "    \n",
        "    #Si se encontraron variantes de 'good', reemplazarlas\n",
        "    if len(good) > 0:\n",
        "\n",
        "      doc[j] = 'good'\n",
        "\n",
        "    #Si se encontraron variantes de 'fox', reemplazarlas\n",
        "    if len(fox) > 0:\n",
        "\n",
        "      doc[j] = 'fox'\n",
        "\n",
        "    #Si se encontraron variantes de 'way', reemplazarlas\n",
        "    if len(way) > 0:\n",
        "\n",
        "      doc[j] = 'way'\n",
        "\n",
        "    #Si se encontraron variantes de 'frequently', reemplazarlas\n",
        "    if len(frequently) > 0:\n",
        "\n",
        "      doc[j] = 'frequently'\n",
        "\n",
        "    #Se aplica stemming lo cual nos llevará las palabras a su base, incluyendo remover las terminaciones 'ing','ed','s'\n",
        "    #doc[j] = ps.stem(doc[j]) #Se aplica lematización en lugar de stemming\n",
        "\n",
        "    lem_token = doc[j]\n",
        "\n",
        "    #Sólo lematizar tokens mas de más de dos caracteres\n",
        "\n",
        "    if len(lem_token) > 2:\n",
        "\n",
        "      #Se intenta lematizar verbo\n",
        "      lem_token = WNL.lemmatize(doc[j],'v')\n",
        "\n",
        "      #Si el token permanece sin cambios, intentar lematizar como sustantivo\n",
        "      if lem_token == doc[j]:\n",
        "        lem_token = WNL.lemmatize(doc[j],'n')\n",
        "\n",
        "      #Si el token permanece sin cambios, intentar lematizar como adjetivo\n",
        "      elif lem_token == doc[j]:\n",
        "        lem_token = WNL.lemmatize(doc[j],'a')\n",
        "\n",
        "      #Si el token permanece sin cambios, intentar lematizar como advervio\n",
        "      elif lem_token == doc[j]:\n",
        "        lem_token = WNL.lemmatize(doc[j],'r')\n",
        "\n",
        "    #Asignar el resultado a doc[j]\n",
        "    doc[j] = lem_token\n",
        "\n",
        "  tokens.extend(doc)\n",
        "\n",
        "  return tokens"
      ],
      "metadata": {
        "colab": {
          "base_uri": "https://localhost:8080/"
        },
        "id": "tSMPI-XoSELt",
        "outputId": "538e601c-4a09-4f0f-a7d0-a814db8dd145"
      },
      "execution_count": 20,
      "outputs": [
        {
          "output_type": "stream",
          "name": "stdout",
          "text": [
            "['aailiyah', 'abandoned', 'abhor', 'ability', 'able', 'abound', 'abroad', 'absolute', 'absolutel', 'absolutely', 'absolutley', 'abstruse', 'abysmal', 'ac', 'academy', 'accents', 'accept', 'acceptable', 'access', 'accessable', 'accessible', 'accessing', 'accessory', 'accessoryone', 'accident', 'accidentally', 'acclaimed', 'accolades', 'accommodations', 'accomodate', 'accompanied', 'according', 'accordingly', 'accountant', 'accurate', 'accurately', 'accused', 'ache', 'achievement', 'achille', 'ackerman', 'acknowledged', 'across', 'act', 'acted', 'acting', 'action', 'actions', 'activate', 'activated', 'activesync', 'actor', 'actors', 'actress', 'actresses', 'actual', 'actually', 'ad', 'adams', 'adaptation', 'adapter', 'adapters', 'add', 'added', 'addition', 'additional', 'address', 'adhesive', 'admins', 'admiration', 'admitted', 'adorable', 'adrift', 'adventure', 'advertised', 'advise', 'aerial', 'aesthetically', 'affected', 'affleck', 'affordable', 'afraid', 'africa', 'afternoon', 'age', 'aged', 'ages', 'aggravating', 'ago', 'agree', 'agreed', 'ahead', 'aimless', 'air', 'aired', 'airline', 'airport', 'akasha', 'akin', 'ala', 'alarm', 'albondigas', 'alert', 'alexander', 'alike', 'allergy', 'allison', 'allot', 'allow', 'allowing', 'allows', 'almonds', 'almost', 'alone', 'along', 'alongside', 'alot', 'already', 'also', 'although', 'aluminum', 'always', 'amateurish', 'amaze', 'amazed', 'amazing', 'amazingly', 'amazon', 'ambiance', 'ambience', 'america', 'american', 'americans', 'among', 'amount', 'amp', 'ample', 'amusing', 'anatomist', 'andddd', 'angel', 'angela', 'angeles', 'angelina', 'angle', 'angles', 'angry', 'anguish', 'angus', 'animals', 'animated', 'animation', 'anita', 'ann', 'anne', 'anniversary', 'annoying', 'another', 'answer', 'ant', 'antena', 'anthony', 'anti', 'anticipated', 'antithesis', 'anymore', 'anyone', 'anything', 'anytime', 'anyway', 'anyways', 'anywhere', 'apart', 'apartment', 'apologize', 'apology', 'app', 'appalling', 'apparently', 'appealing', 'appearance', 'appears', 'appetite', 'appetizer', 'appetizers', 'applauded', 'applause', 'apple', 'applifies', 'appointments', 'appreciate', 'appropriate', 'approval', 'apt', 'area', 'arepas', 'argued', 'arguing', 'aria', 'armageddon', 'armand', 'armband', 'around', 'array', 'arrival', 'arrived', 'arrives', 'arriving', 'art', 'article', 'articulated', 'artiness', 'artist', 'artistic', 'artless', 'arts', 'asia', 'aside', 'ask', 'asked', 'asking', 'asleep', 'aspect', 'aspects', 'ass', 'assante', 'assaulted', 'assistant', 'assumed', 'assure', 'astonishingly', 'astronaut', 'ate', 'atleast', 'atmosphere', 'atrocious', 'atrocity', 'att', 'attached', 'attack', 'attacked', 'attempt', 'attempted', 'attempting', 'attempts', 'attention', 'attentive', 'attitudes', 'attractive', 'audience', 'audio', 'auju', 'aurv', 'austen', 'austere', 'authentic', 'author', 'auto', 'available', 'average', 'aversion', 'avocado', 'avoid', 'avoided', 'avoiding', 'award', 'awarded', 'awards', 'away', 'awesome', 'awful', 'awkward', 'awkwardly', 'awsome', 'ayce', 'aye', 'az', 'baaaaaad', 'baba', 'babbling', 'babie', 'baby', 'babysitting', 'bachi', 'back', 'backdrop', 'backed', 'background', 'backlight', 'bacon', 'bad', 'badly', 'bag', 'bagels', 'bailey', 'bakery', 'baklava', 'balance', 'balanced', 'ball', 'ballet', 'balls', 'bamboo', 'banana', 'band', 'bank', 'bar', 'barcelona', 'bare', 'barely', 'bargain', 'barking', 'barney', 'barren', 'bars', 'bartender', 'bartenders', 'baseball', 'based', 'basement', 'basic', 'basically', 'bat', 'batch', 'bates', 'bathroom', 'bathrooms', 'batter', 'batteries', 'battery', 'baxendale', 'bay', 'bbq', 'bean', 'beans', 'bear', 'beat', 'beateous', 'beats', 'beautiful', 'beautifully', 'beauty', 'bec', 'became', 'bechard', 'become', 'becomes', 'bed', 'beef', 'beep', 'beeping', 'beer', 'beers', 'began', 'begin', 'beginning', 'behind', 'behing', 'behold', 'bela', 'believable', 'believe', 'believed', 'bell', 'bellagio', 'bellies', 'bells', 'bellucci', 'belly', 'belmondo', 'belt', 'ben', 'bend', 'bendingly', 'bennett', 'bergen', 'bertolucci', 'besides', 'best', 'better', 'betty', 'beware', 'beyond', 'bible', 'big', 'bigger', 'biggest', 'bill', 'bills', 'billy', 'binge', 'biographical', 'bipolarity', 'bird', 'biscuit', 'biscuits', 'bisque', 'bit', 'bitches', 'bitchy', 'bite', 'bites', 'bitpim', 'bits', 'black', 'blackberry', 'blacktop', 'blah', 'blake', 'blame', 'bland', 'blandest', 'blandly', 'blanket', 'blare', 'blatant', 'blew', 'block', 'bloddy', 'blood', 'bloodiest', 'bloody', 'blow', 'blown', 'blows', 'blue', 'blueant', 'bluetoooth', 'bluetooth', 'bluetooths', 'blush', 'bmw', 'boasts', 'bob', 'boba', 'bodes', 'body', 'bohemian', 'boiled', 'boiling', 'bold', 'bombardments', 'bond', 'bonding', 'bone', 'bonus', 'bonuses', 'boobs', 'boogeyman', 'book', 'booking', 'boost', 'boot', 'bop', 'bordered', 'borderlines', 'borders', 'bore', 'bored', 'boring', 'borrowed', 'bose', 'boss', 'bother', 'bothersome', 'bottom', 'bottowm', 'bouchon', 'bought', 'bougth', 'bowl', 'box', 'boxes', 'boy', 'boyfriend', 'boyle', 'boys', 'brain', 'brainsucking', 'brand', 'brat', 'bread', 'break', 'breakage', 'breakfast', 'breaking', 'breaks', 'breeders', 'breeze', 'brevity', 'brian', 'brick', 'brief', 'brigand', 'bright', 'brilliance', 'brilliant', 'brilliantly', 'bring', 'brings', 'brisket', 'broad', 'broke', 'broken', 'brooding', 'brother', 'brought', 'brownish', 'browser', 'browsing', 'brunch', 'bruschetta', 'brushfire', 'brutal', 'bt', 'bubbling', 'bucks', 'buddy', 'budget', 'buds', 'buffalo', 'buffet', 'buffets', 'bug', 'build', 'builders', 'building', 'buildings', 'built', 'buldogis', 'bulky', 'bullock', 'bully', 'bumpers', 'bunch', 'burger', 'burgers', 'burned', 'burrittos', 'burton', 'bus', 'business', 'businesses', 'bussell', 'busy', 'butter', 'button', 'buttons', 'buy', 'buyer', 'buyers', 'buying', 'buyit', 'buzzing', 'bye', 'c', 'ca', 'caballero', 'cable', 'cables', 'caesar', 'caf', 'cafe', 'cailles', 'cake', 'cakes', 'calamari', 'calendar', 'california', 'call', 'called', 'calligraphy', 'callings', 'calls', 'came', 'camelback', 'cameo', 'camera', 'camerawork', 'camp', 'campy', 'canada', 'canal', 'cancan', 'cancellation', 'cancelling', 'candace', 'candle', 'cannoli', 'cannot', 'cant', 'capability', 'capacity', 'cape', 'capers', 'captain', 'captured', 'captures', 'car', 'carbs', 'card', 'cardboard', 'cardellini', 'care', 'careful', 'caring', 'carly', 'carol', 'carpaccio', 'carrell', 'carried', 'carriers', 'carries', 'carry', 'cars', 'cart', 'cartel', 'cartoon', 'cartoons', 'case', 'cases', 'cash', 'cashew', 'cashier', 'casing', 'casino', 'cassette', 'cast', 'casted', 'casting', 'cat', 'catching', 'catchy', 'caterpillar', 'caught', 'cause', 'caused', 'causing', 'cavier', 'cbr', 'cds', 'ceases', 'celebration', 'celebrity', 'cell', 'cellphone', 'cellphones', 'cellular', 'celluloid', 'cent', 'center', 'centers', 'central', 'century', 'certain', 'certainly', 'cg', 'cgi', 'chai', 'chains', 'chalkboard', 'challenges', 'chance', 'change', 'changes', 'changing', 'channel', 'char', 'character', 'characterisation', 'characters', 'charcoal', 'charge', 'charged', 'charger', 'chargers', 'charges', 'charging', 'charisma', 'charismatic', 'charles', 'charlie', 'charm', 'charming', 'chase', 'chasing', 'cheap', 'cheaper', 'cheaply', 'cheapy', 'cheated', 'check', 'checked', 'checking', 'cheek', 'cheekbones', 'cheerfull', 'cheerless', 'cheese', 'cheeseburger', 'cheesecurds', 'cheesiness', 'cheesy', 'chef', 'chefs', 'chemistry', 'chewy', 'chick', 'chicken', 'chickens', 'child', 'childhood', 'children', 'childrens', 'chills', 'chilly', 'chimp', 'china', 'chinese', 'chip', 'chipolte', 'chipotle', 'chips', 'chocolate', 'chodorov', 'choice', 'choices', 'choked', 'choose', 'chosen', 'choux', 'chow', 'christmas', 'christopher', 'church', 'cibo', 'cinema', 'cinematic', 'cinematographers', 'cinematography', 'cingulair', 'cingular', 'circumstances', 'claimed', 'clarity', 'class', 'classic', 'classical', 'classics', 'classy', 'clean', 'clear', 'clearer', 'clearly', 'clever', 'clich', 'cliche', 'clicks', 'clients', 'cliff', 'climax', 'climbing', 'clip', 'clipping', 'clips', 'clock', 'close', 'closed', 'clothes', 'club', 'clue', 'co', 'coach', 'coal', 'coastal', 'coaster', 'cocktail', 'cocktails', 'coconut', 'cod', 'coffee', 'coherent', 'cold', 'colder', 'cole', 'colleague', 'collect', 'collective', 'college', 'color', 'colored', 'colorful', 'colors', 'colours', 'columbo', 'combination', 'combo', 'combos', 'come', 'comedic', 'comedy', 'comes', 'comfort', 'comfortable', 'comfortably', 'comfortible', 'comforting', 'comical', 'coming', 'commands', 'comment', 'commentary', 'commented', 'comments', 'commercial', 'commercials', 'common', 'communicate', 'communication', 'communications', 'community', 'commuter', 'companions', 'company', 'comparably', 'compared', 'compelling', 'compete', 'competent', 'competitors', 'complain', 'complained', 'complaint', 'complaints', 'complete', 'completed', 'completely', 'complex', 'complexity', 'compliments', 'composed', 'composition', 'comprehensible', 'compromise', 'computer', 'con', 'concentrate', 'concept', 'conception', 'conceptually', 'concern', 'concerning', 'concerns', 'concert', 'conclusion', 'concrete', 'condescends', 'condiment', 'conditions', 'confidence', 'configuration', 'confirm', 'conflict', 'confortable', 'confuses', 'confusing', 'connect', 'connected', 'connecting', 'connection', 'connections', 'connery', 'connisseur', 'connoisseur', 'connor', 'conrad', 'consequences', 'consider', 'considerable', 'considered', 'considering', 'considers', 'consistent', 'consolations', 'constant', 'constantine', 'constantly', 'constructed', 'construction', 'consumer', 'contact', 'contacted', 'contacting', 'contacts', 'contain', 'contained', 'containers', 'containing', 'contains', 'content', 'continually', 'continuation', 'continue', 'continues', 'continuity', 'continuously', 'contract', 'contrast', 'contributing', 'contributory', 'contrived', 'control', 'controls', 'controversy', 'contstruct', 'convenient', 'convention', 'conversation', 'conversations', 'converter', 'convey', 'convince', 'convincing', 'convoluted', 'cook', 'cooked', 'cooking', 'cool', 'copier', 'coppola', 'copy', 'corded', 'cords', 'core', 'corn', 'corny', 'corporation', 'correct', 'correction', 'correctly', 'cost', 'costco', 'costs', 'costumes', 'cotta', 'cotton', 'could', 'couldnt', 'count', 'counter', 'counterfeit', 'couple', 'couples', 'coupon', 'coupons', 'course', 'court', 'courteous', 'courtroom', 'cover', 'coverage', 'covered', 'covers', 'cow', 'cowardice', 'cox', 'coziness', 'cr', 'crab', 'crack', 'cracked', 'crackles', 'cradle', 'cradles', 'crafted', 'cramming', 'cranberry', 'crap', 'crappy', 'crash', 'crashed', 'craving', 'crawfish', 'crawl', 'crayon', 'crayons', 'crazy', 'creaks', 'cream', 'creamy', 'create', 'created', 'creates', 'creative', 'creativity', 'creature', 'credible', 'credit', 'credits', 'crema', 'crepe', 'crew', 'crime', 'crisp', 'crispy', 'critic', 'critical', 'crocdodile', 'crocs', 'cross', 'crostini', 'croutons', 'crowd', 'crowds', 'crowe', 'cruel', 'cruise', 'crumby', 'crust', 'crusty', 'cry', 'crystals', 'cuisine', 'cult', 'culture', 'cumbersome', 'current', 'currently', 'curry', 'curtain', 'curve', 'custer', 'customer', 'customers', 'customize', 'cut', 'cute', 'cutest', 'cutie', 'cutouts', 'cuts', 'cutting', 'dads', 'daily', 'damage', 'damian', 'damn', 'dance', 'dancing', 'dangerous', 'dark', 'darn', 'darren', 'data', 'date', 'dates', 'daughter', 'daughters', 'day', 'days', 'de', 'dead', 'deadly', 'deadpan', 'deaf', 'deal', 'dealing', 'dealt', 'death', 'debated', 'debbie', 'debits', 'debut', 'decade', 'decay', 'decent', 'decide', 'decided', 'decidely', 'decipher', 'decision', 'decisions', 'decor', 'decorated', 'dedicated', 'dedication', 'dee', 'deep', 'deeply', 'def', 'defeats', 'defect', 'defective', 'defensemen', 'deffinitely', 'definately', 'defined', 'definitely', 'definitly', 'degree', 'del', 'delay', 'delete', 'delicate', 'delicioso', 'delicious', 'deliciously', 'delight', 'delightful', 'delights', 'delish', 'deliver', 'delivered', 'delivering', 'delivers', 'delivery', 'denny', 'dependant', 'depending', 'depends', 'depicted', 'depicts', 'depressing', 'depth', 'derivative', 'describe', 'described', 'describes', 'describing', 'description', 'descriptions', 'desert', 'deserved', 'deserves', 'deserving', 'design', 'designed', 'designer', 'designs', 'desired', 'desperately', 'desperation', 'despicable', 'despised', 'despite', 'dessert', 'desserts', 'destination', 'destroy', 'destroying', 'detachable', 'detailed', 'detailing', 'details', 'deuchebaggery', 'develop', 'development', 'developments', 'device', 'devices', 'devine', 'di', 'diabetic', 'dialing', 'dialog', 'dialogs', 'dialogue', 'diaper', 'dickens', 'die', 'died', 'dieing', 'difference', 'different', 'difficult', 'dignity', 'dime', 'dimensional', 'dine', 'dining', 'dinner', 'dinners', 'dipping', 'direct', 'directed', 'directing', 'direction', 'directions', 'directly', 'director', 'directorial', 'directors', 'dirt', 'dirty', 'disagree', 'disapoinment', 'disapointing', 'disappoint', 'disappointed', 'disappointing', 'disappointment', 'disapppointment', 'disaster', 'disbelief', 'discarded', 'discomfort', 'disconnected', 'discount', 'discovering', 'discovery', 'disgrace', 'disgraceful', 'disgust', 'disgusted', 'disgusting', 'dish', 'dishes', 'dislike', 'disliked', 'disney', 'disparate', 'dispenser', 'display', 'displeased', 'disposable', 'disrespected', 'dissapointed', 'dissapointing', 'distant', 'distinction', 'distorted', 'distract', 'distracting', 'distressed', 'disturbing', 'dit', 'diverse', 'diving', 'division', 'dna', 'docking', 'doctor', 'documentaries', 'documentary', 'dodge', 'dog', 'dogs', 'dollar', 'dollars', 'dominated', 'done', 'donlevy', 'dont', 'donut', 'doomed', 'door', 'dos', 'dosen', 'double', 'doubt', 'douchey', 'dough', 'doughy', 'download', 'downloading', 'downright', 'downs', 'downside', 'downtown', 'dozen', 'dozens', 'dr', 'dracula', 'draft', 'drag', 'drago', 'drain', 'drained', 'drains', 'drama', 'dramatic', 'drastically', 'drawback', 'drawing', 'drawings', 'drawn', 'dream', 'dreamed', 'dreams', 'dreary', 'drenched', 'dressed', 'dressing', 'dribble', 'dried', 'driest', 'drift', 'drifting', 'drink', 'drinking', 'drinks', 'dripping', 'drive', 'driving', 'drivng', 'droid', 'drooling', 'drop', 'dropped', 'dropping', 'drops', 'drunk', 'dry', 'dual', 'duck', 'dude', 'due', 'duet', 'dull', 'dumb', 'dumbest', 'duo', 'duper', 'durable', 'duris', 'dusted', 'dustin', 'dustpan', 'dvd', 'dwight', 'dying', 'dylan', 'dysfunction', 'ear', 'earbud', 'earbuds', 'earbugs', 'eargels', 'earlier', 'early', 'earpad', 'earphone', 'earphones', 'earpiece', 'earpieces', 'ears', 'earset', 'earth', 'ease', 'easier', 'easily', 'easy', 'eat', 'eaten', 'eating', 'ebay', 'ebola', 'eccleston', 'echo', 'eclectic', 'ed', 'edge', 'edible', 'edinburgh', 'editing', 'edition', 'educational', 'edward', 'eel', 'eew', 'effect', 'effective', 'effects', 'efficient', 'effort', 'efforts', 'egg', 'eggplant', 'eggs', 'egotism', 'eighth', 'eiko', 'either', 'elaborately', 'elderly', 'electronics', 'elegant', 'elegantly', 'element', 'elias', 'elk', 'eloquently', 'else', 'elsewhere', 'email', 'embarassing', 'embarrassed', 'embarrassing', 'embassy', 'embedded', 'emerge', 'emilio', 'emily', 'emoting', 'emotion', 'emotionally', 'emotions', 'emperor', 'employee', 'employees', 'empowerment', 'emptiness', 'empty', 'en', 'enchanting', 'encourage', 'end', 'endearing', 'ended', 'ending', 'endlessly', 'ends', 'energetic', 'energy', 'engaging', 'engineered', 'english', 'enhanced', 'enjoy', 'enjoyable', 'enjoyed', 'enjoyment', 'enough', 'ensued', 'enter', 'enterprise', 'entertained', 'entertaining', 'entertainment', 'enthusiastic', 'entire', 'entirely', 'entrance', 'entrees', 'env', 'episode', 'episodes', 'equally', 'equipment', 'equivalent', 'era', 'ergonomic', 'ericson', 'ericsson', 'errol', 'errors', 'escalating', 'escapism', 'especially', 'essence', 'essentially', 'establish', 'established', 'establishment', 'estate', 'estevez', 'etc', 'ethic', 'europe', 'european', 'evaluate', 'eve', 'even', 'evening', 'event', 'events', 'eventually', 'ever', 'every', 'everybody', 'everyday', 'everyone', 'everything', 'everywhere', 'evidently', 'evil', 'evinced', 'evokes', 'exactly', 'exaggerating', 'example', 'excalibur', 'exceeding', 'exceeds', 'excelent', 'excellent', 'excellently', 'excels', 'except', 'exceptional', 'exceptionally', 'excerpts', 'excessive', 'excessively', 'exchange', 'exchanged', 'excited', 'exciting', 'exclaim', 'excruciatingly', 'excrutiatingly', 'excuse', 'excuses', 'executed', 'exemplars', 'exercise', 'existent', 'existential', 'existing', 'expanded', 'expansive', 'expect', 'expectations', 'expected', 'expecting', 'expensive', 'experience', 'experienced', 'experiences', 'experiencing', 'expert', 'explain', 'explains', 'explanation', 'exploit', 'explorations', 'explosion', 'expression', 'exquisite', 'extant', 'extended', 'extensive', 'exterior', 'exteriors', 'external', 'extra', 'extraneous', 'extraordinary', 'extremely', 'eye', 'eyed', 'eyes', 'fabulous', 'face', 'faceplates', 'faces', 'facial', 'facing', 'fact', 'factor', 'factory', 'fail', 'failed', 'fails', 'fair', 'fairly', 'faithful', 'falafels', 'fall', 'falling', 'falls', 'falsely', 'falwell', 'fame', 'famed', 'familiar', 'family', 'famous', 'fan', 'fanciful', 'fancy', 'fans', 'fantastic', 'fantasy', 'far', 'farce', 'fare', 'fascinated', 'fascinating', 'fascination', 'fashioned', 'fast', 'faster', 'fat', 'father', 'faultless', 'fausa', 'faux', 'fav', 'favor', 'favorite', 'favourite', 'fear', 'feature', 'features', 'fee', 'feel', 'feeling', 'feelings', 'feels', 'feet', 'feisty', 'fell', 'fella', 'fellow', 'fellowes', 'felt', 'female', 'females', 'ferry', 'fest', 'fi', 'fianc', 'fields', 'fifteen', 'fifties', 'figure', 'figured', 'file', 'filet', 'fill', 'fillet', 'filling', 'film', 'filmed', 'filmiing', 'filmmaker', 'filmography', 'films', 'final', 'finale', 'finally', 'financial', 'find', 'finds', 'fine', 'finest', 'finger', 'fingernails', 'fingers', 'finish', 'finished', 'fire', 'fireball', 'firehouse', 'first', 'fish', 'fishnet', 'fisted', 'fit', 'fits', 'five', 'fixes', 'flag', 'flair', 'flakes', 'flaming', 'flash', 'flashbacks', 'flat', 'flavor', 'flavored', 'flavorful', 'flavorless', 'flavors', 'flavourful', 'flaw', 'flawed', 'flawless', 'flawlessly', 'flaws', 'fleshed', 'flick', 'flicks', 'flimsy', 'flip', 'flipphones', 'fliptop', 'flirting', 'floor', 'flop', 'floppy', 'flops', 'florida', 'flowed', 'flower', 'fluffy', 'flush', 'fly', 'flying', 'flynn', 'fm', 'fo', 'focus', 'focused', 'fodder', 'folks', 'follow', 'followed', 'following', 'follows', 'fond', 'fondue', 'food', 'foods', 'fooled', 'foolish', 'foot', 'footage', 'football', 'force', 'forced', 'forces', 'ford', 'foreign', 'foreigner', 'forever', 'forgeries', 'forget', 'forgettable', 'forgetting', 'forgot', 'forgotten', 'form', 'format', 'former', 'fort', 'forth', 'forty', 'forward', 'forwarded', 'found', 'four', 'fourth', 'fox', 'foxx', 'fraction', 'frances', 'francis', 'francisco', 'frankly', 'freaking', 'free', 'freedom', 'freeman', 'freeway', 'freezes', 'freezing', 'french', 'frenchman', 'frequently', 'frequentyly', 'fresh', 'freshness', 'fridays', 'fried', 'friend', 'friendly', 'friends', 'friendship', 'fries', 'frightening', 'frog', 'front', 'frontier', 'frost', 'frozen', 'fruit', 'frustrated', 'frustration', 'fry', 'fs', 'ft', 'fucking', 'fulci', 'fulfilling', 'fulfills', 'full', 'fully', 'fumbling', 'fun', 'function', 'functional', 'functionality', 'functions', 'fundamental', 'funniest', 'funny', 'furthermore', 'future', 'fuzzy', 'fx', 'g', 'gabriel', 'gadget', 'gadgets', 'gain', 'gake', 'galley', 'gallon', 'game', 'games', 'ganoush', 'garage', 'garbage', 'garbled', 'garbo', 'garden', 'garfield', 'garlic', 'gas', 'gaudi', 'gave', 'gay', 'gc', 'geek', 'geeky', 'gels', 'gem', 'general', 'generally', 'generates', 'generic', 'generous', 'genius', 'genre', 'gentle', 'gently', 'genuine', 'genuinely', 'george', 'gerardo', 'gere', 'get', 'gets', 'getting', 'ghibili', 'giallo', 'giant', 'gibberish', 'gifted', 'gimmick', 'giovanni', 'girl', 'girlfriend', 'girls', 'girolamo', 'give', 'given', 'gives', 'giving', 'glad', 'glance', 'glare', 'glass', 'glasses', 'gloriously', 'glove', 'gloves', 'glued', 'gluten', 'go', 'goalies', 'goat', 'god', 'godfathers', 'goes', 'going', 'gold', 'golden', 'gone', 'gonna', 'good', 'google', 'gooodd', 'gordon', 'gore', 'goremeister', 'gorman', 'gosh', 'got', 'goth', 'gotta', 'gotten', 'gourmet', 'government', 'grab', 'grace', 'grade', 'gradually', 'grain', 'grainy', 'grandmother', 'granted', 'graphics', 'grasp', 'grates', 'gratitude', 'gratuity', 'grease', 'greasy', 'great', 'greater', 'greatest', 'greatness', 'greedy', 'greek', 'green', 'greens', 'greenstreet', 'greeted', 'grew', 'grey', 'grill', 'grilled', 'grim', 'grimes', 'gringos', 'grip', 'gripping', 'gristle', 'grocery', 'groove', 'gross', 'grossed', 'ground', 'group', 'groups', 'grow', 'grtting', 'guacamole', 'guards', 'guess', 'guest', 'guests', 'guilt', 'gung', 'guy', 'guys', 'gx', 'gyro', 'gyros', 'ha', 'hackneyed', 'haggis', 'hair', 'hairsplitting', 'half', 'halfway', 'halibut', 'ham', 'hamburger', 'han', 'hand', 'handed', 'handheld', 'handle', 'handled', 'handles', 'handling', 'handmade', 'hands', 'handset', 'handsfree', 'handy', 'hang', 'hankering', 'hankies', 'hanks', 'happen', 'happened', 'happening', 'happens', 'happier', 'happiness', 'happy', 'hard', 'hardest', 'hardly', 'harris', 'hat', 'hate', 'hated', 'hatred', 'haul', 'haunt', 'havilland', 'hawaiian', 'hay', 'hayao', 'hayworth', 'hbo', 'head', 'headbands', 'headphones', 'heads', 'headset', 'headsets', 'healthy', 'hear', 'heard', 'hearing', 'heart', 'hearts', 'heartwarming', 'heat', 'heaven', 'heavy', 'heche', 'heels', 'heimer', 'heist', 'held', 'helen', 'hell', 'hella', 'hellish', 'hello', 'helms', 'help', 'helped', 'helpful', 'helping', 'helps', 'hence', 'hendrikson', 'hereas', 'hernandez', 'hero', 'heroes', 'heroine', 'heroism', 'hes', 'hey', 'hi', 'hide', 'high', 'higher', 'highest', 'highlight', 'highlighted', 'highlights', 'highly', 'highy', 'hilarious', 'hill', 'hilt', 'hinge', 'hip', 'hiro', 'history', 'hit', 'hitch', 'hitchcock', 'hits', 'ho', 'hockey', 'hoffman', 'hold', 'holder', 'holding', 'holds', 'hole', 'holes', 'holiday', 'hollander', 'hollow', 'hollywood', 'holster', 'home', 'homemade', 'homework', 'honeslty', 'honest', 'honestly', 'honor', 'hook', 'hooked', 'hoot', 'hope', 'hoped', 'hopefully', 'hopeless', 'hopes', 'hoping', 'horrendous', 'horrendously', 'horrible', 'horrid', 'horrified', 'horror', 'horse', 'hospitality', 'host', 'hostess', 'hosting', 'hot', 'hottest', 'hour', 'hours', 'hoursthe', 'house', 'houses', 'howdy', 'howe', 'howell', 'however', 'hs', 'huevos', 'huge', 'hugo', 'human', 'humanity', 'humans', 'humiliated', 'hummh', 'humming', 'hummus', 'humor', 'humorous', 'humour', 'hunan', 'hundred', 'hungry', 'hurry', 'hurt', 'husband', 'huston', 'hut', 'hybrid', 'hype', 'hypocrisy', 'iam', 'ians', 'ice', 'iced', 'idea', 'ideal', 'idealogical', 'identified', 'identifies', 'identify', 'idiot', 'idiotic', 'idyllic', 'iffy', 'ignore', 'ignored', 'igo', 'ill', 'im', 'imac', 'images', 'imaginable', 'imagination', 'imaginative', 'imagine', 'imagined', 'imdb', 'imitation', 'immediately', 'impact', 'impeccable', 'imperial', 'implausible', 'important', 'impossible', 'impressed', 'impression', 'impressive', 'improper', 'improve', 'improved', 'improvement', 'improvisation', 'impulse', 'inappropriate', 'incendiary', 'inch', 'inches', 'included', 'includes', 'including', 'incoming', 'incomprehensible', 'inconsiderate', 'inconsistencies', 'inconspicuous', 'incorrectness', 'increase', 'incrediable', 'incredible', 'incredibly', 'indeed', 'indescribably', 'indian', 'indicate', 'indication', 'indictment', 'indie', 'individual', 'indoor', 'indoors', 'indulgent', 'industrial', 'industry', 'ineptly', 'inexcusable', 'inexpensive', 'inexperience', 'inexplicable', 'infatuated', 'inflate', 'inform', 'informative', 'infra', 'infuriating', 'ingredients', 'initially', 'innocence', 'insane', 'insanely', 'insert', 'inside', 'insincere', 'insipid', 'insomniacs', 'inspiration', 'inspired', 'inspiring', 'install', 'installed', 'instance', 'instant', 'instantly', 'instead', 'instruction', 'instructions', 'instruments', 'insulin', 'insult', 'insulted', 'insults', 'intangibles', 'integral', 'integrated', 'integration', 'intelligence', 'intelligent', 'intended', 'intense', 'intensity', 'intentions', 'interacting', 'interest', 'interested', 'interesting', 'interface', 'interim', 'interior', 'intermittently', 'internet', 'interplay', 'interpretations', 'interview', 'intoning', 'intrigued', 'invented', 'inventive', 'investment', 'inviting', 'involved', 'involves', 'involving', 'iphone', 'ipod', 'ipods', 'iq', 'ir', 'irda', 'ireland', 'iriver', 'ironically', 'ironman', 'irons', 'ironside', 'irritating', 'ishioka', 'issue', 'issues', 'italian', 'item', 'items', 'ive', 'jabra', 'jack', 'jaclyn', 'jalapeno', 'jamaican', 'james', 'jamie', 'japanese', 'jason', 'jawbone', 'jay', 'jealousy', 'jean', 'jeff', 'jenni', 'jennifer', 'jerk', 'jerks', 'jerky', 'jerry', 'jessica', 'jessice', 'jet', 'jewel', 'jiggle', 'jim', 'jimmy', 'job', 'jobs', 'joe', 'joey', 'john', 'join', 'joins', 'joint', 'joke', 'jokes', 'jonah', 'jones', 'journey', 'joy', 'joyce', 'juano', 'judge', 'judging', 'judith', 'judo', 'juice', 'julian', 'june', 'junk', 'junkyard', 'juries', 'justice', 'jutland', 'jx', 'kabuki', 'kanaly', 'kathy', 'keen', 'keep', 'keeping', 'keeps', 'keira', 'keith', 'kept', 'kevin', 'key', 'keyboard', 'keypad', 'keypads', 'keys', 'khao', 'kid', 'kiddos', 'kidnapped', 'kids', 'kieslowski', 'kill', 'killer', 'killing', 'killings', 'kind', 'kinda', 'kindle', 'kirk', 'kitchen', 'kitchy', 'kits', 'knew', 'knightley', 'knock', 'knocked', 'know', 'known', 'knows', 'koteas', 'kris', 'kristoffersen', 'krussel', 'kudos', 'la', 'labute', 'lack', 'lacked', 'lacking', 'lacks', 'ladies', 'lady', 'lame', 'lance', 'land', 'landscapes', 'lane', 'lange', 'lap', 'laptop', 'large', 'largely', 'larger', 'las', 'laselva', 'lassie', 'last', 'lasted', 'lasting', 'lastly', 'lasts', 'latch', 'latched', 'late', 'lately', 'later', 'latest', 'latifa', 'latin', 'latte', 'latter', 'laugh', 'laughable', 'laughed', 'laughing', 'laughs', 'law', 'lawyers', 'layers', 'lazy', 'lb', 'lead', 'leading', 'leaf', 'leaks', 'leap', 'learn', 'learned', 'least', 'leather', 'leave', 'leaves', 'leaving', 'lee', 'left', 'leftover', 'legal', 'legendary', 'legit', 'legs', 'lemon', 'length', 'leni', 'lense', 'leopard', 'less', 'lesser', 'lesson', 'lestat', 'let', 'letdown', 'lets', 'letting', 'lettuce', 'level', 'levels', 'lewis', 'lg', 'lid', 'lie', 'lies', 'lieutenant', 'life', 'lifetime', 'light', 'lighter', 'lighting', 'lightly', 'lights', 'lightweight', 'like', 'liked', 'likes', 'liking', 'lil', 'lilli', 'lilt', 'limitations', 'limited', 'linda', 'line', 'linear', 'lined', 'lines', 'linked', 'linking', 'linksys', 'lino', 'lion', 'list', 'listed', 'listener', 'listening', 'lit', 'literally', 'littered', 'little', 'live', 'lived', 'lives', 'living', 'loads', 'lobster', 'local', 'located', 'location', 'locations', 'lock', 'locked', 'locks', 'loewenhielm', 'logic', 'logitech', 'london', 'loneliness', 'long', 'longer', 'look', 'looked', 'looking', 'looks', 'loop', 'loops', 'loose', 'loosely', 'looses', 'lord', 'lordy', 'los', 'lose', 'losing', 'lost', 'lot', 'lots', 'loud', 'louder', 'loudest', 'loudly', 'loudspeaker', 'lousy', 'lovable', 'love', 'loved', 'lovely', 'lover', 'lovers', 'loves', 'loving', 'low', 'lower', 'lox', 'loyal', 'loyalty', 'lucio', 'luck', 'lucy', 'lugosi', 'luke', 'lukewarm', 'lunch', 'lust', 'luv', 'lyrics', 'mac', 'macarons', 'macbeth', 'machine', 'mad', 'made', 'madhouse', 'madison', 'magazine', 'magic', 'magical', 'magnetic', 'magnificent', 'mail', 'main', 'maine', 'mainly', 'mains', 'maintain', 'maintaining', 'maintains', 'major', 'majority', 'make', 'maker', 'makers', 'makes', 'making', 'male', 'males', 'mall', 'malta', 'man', 'managed', 'management', 'manager', 'manages', 'mandalay', 'mango', 'manna', 'mansonites', 'manual', 'manufacturer', 'many', 'marbles', 'march', 'margaritas', 'maria', 'marine', 'marion', 'mark', 'market', 'marred', 'marriage', 'marrow', 'martin', 'martini', 'mary', 'masculine', 'masculinity', 'massive', 'master', 'masterful', 'masterpiece', 'masterpieces', 'match', 'material', 'matrix', 'matter', 'matthews', 'mature', 'max', 'may', 'maybe', 'mayo', 'mchattie', 'mclaglen', 'meagre', 'meal', 'meals', 'mean', 'meanders', 'meaning', 'meanings', 'means', 'meant', 'meat', 'meatballs', 'meatloaf', 'meats', 'mechanism', 'media', 'medical', 'mediocre', 'mediterranean', 'medium', 'meet', 'mega', 'megapixels', 'meh', 'mein', 'meld', 'mellow', 'melodrama', 'melt', 'melted', 'melville', 'member', 'members', 'memorable', 'memories', 'memorized', 'memory', 'menace', 'menacing', 'mention', 'mentioned', 'menu', 'menus', 'mercy', 'mere', 'meredith', 'merit', 'mesmerising', 'mesquite', 'mess', 'message', 'messages', 'messaging', 'messes', 'metal', 'meteorite', 'metro', 'mexican', 'mgm', 'mic', 'michael', 'mickey', 'microphone', 'microsoft', 'mid', 'middle', 'might', 'mighty', 'mile', 'military', 'milk', 'milkshake', 'min', 'mind', 'mindblowing', 'mine', 'miner', 'mini', 'minor', 'mins', 'minute', 'minutes', 'mirage', 'mirrormask', 'miserable', 'miserably', 'mishima', 'misleading', 'misplace', 'miss', 'missed', 'missing', 'mistake', 'mistakes', 'mixed', 'miyazaki', 'mmmm', 'mobile', 'mode', 'model', 'modern', 'modest', 'moist', 'mojitos', 'mollusk', 'mom', 'moment', 'moments', 'momentum', 'money', 'monica', 'monkeys', 'monolog', 'monotonous', 'monster', 'monstrous', 'month', 'months', 'monumental', 'mood', 'moods', 'moral', 'morgan', 'morning', 'morons', 'mortified', 'mostly', 'mother', 'motion', 'motivations', 'moto', 'motor', 'motorola', 'motorolas', 'mountain', 'mouse', 'mouth', 'mouthful', 'mouths', 'move', 'moved', 'movements', 'moves', 'movie', 'movies', 'moving', 'moz', 'mozzarella', 'mp', 'ms', 'mst', 'much', 'muddled', 'muddy', 'muffin', 'muffled', 'multi', 'multiple', 'muppets', 'murder', 'murdered', 'murdering', 'murky', 'mushroom', 'mushrooms', 'music', 'musician', 'mussels', 'must', 'mute', 'mystifying', 'naan', 'nachos', 'naked', 'name', 'nan', 'nano', 'nargile', 'narration', 'narrative', 'nasty', 'national', 'nationalities', 'native', 'natural', 'nature', 'naughty', 'navigate', 'nay', 'nc', 'near', 'nearly', 'neat', 'necklace', 'need', 'needed', 'needless', 'needlessly', 'needs', 'negative', 'negatively', 'negligent', 'negulesco', 'neighborhood', 'neighbour', 'neil', 'neither', 'nerves', 'nervous', 'net', 'netflix', 'network', 'never', 'nevertheless', 'nevsky', 'new', 'next', 'ngage', 'nice', 'nicely', 'nicer', 'nicest', 'nicola', 'night', 'nightmare', 'nigiri', 'nimoy', 'nine', 'ninja', 'noble', 'nobody', 'nobu', 'noca', 'noir', 'noise', 'noises', 'nokia', 'non', 'none', 'nonetheless', 'nonsense', 'noodles', 'normal', 'normally', 'north', 'northern', 'nostalgia', 'notable', 'notch', 'note', 'noted', 'noteworthy', 'nothing', 'notice', 'noticed', 'novella', 'nude', 'number', 'numbers', 'numerous', 'nun', 'nuns', 'nurse', 'nut', 'nuts', 'nutshell', 'nyc', 'obliged', 'obsessed', 'obvious', 'obviously', 'occasional', 'occasionally', 'occasions', 'occupied', 'occur', 'occurs', 'odd', 'oem', 'offend', 'offensive', 'offer', 'offered', 'offering', 'offers', 'official', 'officially', 'often', 'oh', 'ohhh', 'oil', 'ok', 'okay', 'old', 'olde', 'older', 'ole', 'olives', 'olivia', 'omelets', 'omg', 'omit', 'one', 'ones', 'onion', 'online', 'oozes', 'open', 'opened', 'opening', 'opens', 'operas', 'operate', 'operates', 'operation', 'opinion', 'opportunity', 'opposed', 'optimal', 'option', 'options', 'ordeal', 'order', 'ordered', 'ordering', 'orders', 'organizational', 'oriented', 'original', 'originality', 'originally', 'origins', 'ortolani', 'os', 'oscar', 'others', 'otherwise', 'otto', 'ought', 'outdoor', 'outgoing', 'outlandish', 'outlet', 'outlets', 'outperform', 'outrageously', 'outshining', 'outside', 'outstanding', 'outta', 'outward', 'oven', 'overacting', 'overall', 'overcome', 'overcooked', 'overdue', 'overhaul', 'overly', 'overnight', 'overnite', 'overpriced', 'override', 'overs', 'overt', 'overwhelmed', 'overwrought', 'owed', 'owls', 'owned', 'owner', 'owners', 'owning', 'owns', 'oy', 'oysters', 'pace', 'paced', 'pacing', 'pack', 'package', 'packaged', 'packed', 'pad', 'pads', 'paid', 'pain', 'painful', 'painfully', 'paint', 'painted', 'pair', 'paired', 'pairing', 'palance', 'palate', 'pale', 'palm', 'palms', 'palmtop', 'pan', 'pancake', 'pancakes', 'pandering', 'panna', 'pans', 'pants', 'paolo', 'pap', 'paper', 'papers', 'par', 'paradise', 'parents', 'park', 'parker', 'part', 'partaking', 'particular', 'particularly', 'parties', 'parts', 'party', 'passed', 'passion', 'past', 'pasta', 'pastas', 'pastry', 'patent', 'pathetic', 'patient', 'patio', 'patriotism', 'patron', 'pats', 'patty', 'paul', 'pause', 'pay', 'paying', 'pc', 'pcs', 'pda', 'pe', 'peach', 'peachy', 'peaking', 'peanut', 'peanuts', 'pearls', 'pears', 'peas', 'pecan', 'peculiarity', 'pedestal', 'peeling', 'pencil', 'penne', 'penny', 'pens', 'people', 'pepper', 'perabo', 'perfect', 'perfected', 'perfection', 'perfectly', 'performance', 'performances', 'performed', 'performing', 'perhaps', 'period', 'periodically', 'periods', 'perpared', 'perplexing', 'person', 'personable', 'personalities', 'personally', 'peter', 'petrified', 'petroleum', 'petty', 'pg', 'phantasm', 'phenomenal', 'philadelphia', 'philippa', 'pho', 'phoenix', 'phone', 'phones', 'phony', 'photo', 'photograph', 'photography', 'phrase', 'physical', 'pi', 'piano', 'picked', 'pics', 'picture', 'pictures', 'piece', 'pieces', 'pile', 'pillow', 'pine', 'pineapple', 'pink', 'pissd', 'pita', 'pitch', 'pitiful', 'pixar', 'pixel', 'pizza', 'pizzas', 'place', 'placed', 'places', 'plain', 'plan', 'plane', 'planned', 'planning', 'plans', 'plantains', 'plantronics', 'plantronincs', 'plants', 'plastic', 'plate', 'plater', 'platter', 'play', 'played', 'player', 'players', 'playing', 'plays', 'pleasant', 'pleasantly', 'please', 'pleased', 'pleaser', 'pleasing', 'pleasure', 'pleather', 'pledge', 'plenty', 'plethora', 'plmer', 'plot', 'plug', 'plugged', 'plugs', 'plus', 'pm', 'pneumatic', 'pocket', 'pockets', 'poet', 'poetry', 'poignant', 'point', 'pointillistic', 'pointless', 'poised', 'poisoning', 'poler', 'polite', 'political', 'politically', 'politics', 'ponyo', 'poop', 'poor', 'poorly', 'pop', 'popcorn', 'popular', 'pork', 'port', 'portable', 'portion', 'portions', 'portraits', 'portrayal', 'portrayals', 'portrayed', 'portraying', 'positive', 'possesed', 'possibility', 'possible', 'possibly', 'post', 'posted', 'postinos', 'potato', 'potatoes', 'potentially', 'potted', 'poured', 'powdered', 'power', 'powerful', 'powerhouse', 'practical', 'practically', 'practice', 'pray', 'precisely', 'predict', 'predictable', 'predictably', 'prefer', 'preferably', 'prejudice', 'prelude', 'premise', 'premium', 'prepare', 'prepared', 'preparing', 'presence', 'presentation', 'presents', 'preservation', 'president', 'pretentious', 'pretext', 'prettier', 'pretty', 'prevents', 'previous', 'price', 'priced', 'prices', 'pricey', 'pricing', 'primal', 'primary', 'prime', 'print', 'privileged', 'probably', 'problem', 'problems', 'procedure', 'procedures', 'proceedings', 'process', 'proclaimed', 'produce', 'produced', 'producer', 'producers', 'product', 'production', 'products', 'professional', 'professionals', 'professor', 'profiterole', 'profound', 'program', 'progresses', 'promise', 'promised', 'promote', 'prompt', 'prompted', 'promptly', 'prone', 'propaganda', 'properly', 'pros', 'protected', 'protection', 'protective', 'protector', 'protects', 'proud', 'proudly', 'proven', 'provide', 'provided', 'provides', 'providing', 'provokes', 'provoking', 'ps', 'pseudo', 'psyched', 'psychological', 'psychotic', 'pub', 'public', 'publicly', 'pucks', 'puff', 'pull', 'pulled', 'pulling', 'pulls', 'pumpkin', 'punched', 'punches', 'punish', 'punishment', 'puppet', 'puppets', 'pur', 'purcashed', 'purchase', 'purchased', 'purchases', 'purchasing', 'pure', 'puree', 'purity', 'purpose', 'push', 'pushed', 'put', 'putting', 'puzzle', 'pyromaniac', 'qu', 'quaid', 'quaint', 'qualified', 'qualities', 'quality', 'quantity', 'question', 'questioning', 'quick', 'quicker', 'quickly', 'quiet', 'quinn', 'quit', 'quite', 'qwerty', 'race', 'racial', 'racism', 'radiant', 'raging', 'ramsey', 'ranch', 'rancheros', 'random', 'randomly', 'range', 'ranks', 'rapidly', 'rare', 'rarely', 'raspberry', 'rate', 'rated', 'rather', 'rating', 'ratings', 'ratio', 'rave', 'raver', 'raving', 'ravoli', 'raw', 'ray', 'razor', 'razr', 'reach', 'reaching', 'reactions', 'read', 'readers', 'reading', 'ready', 'real', 'realised', 'realistic', 'reality', 'realize', 'realized', 'really', 'reason', 'reasonable', 'reasonably', 'reasons', 'reboots', 'recall', 'reccomendation', 'reccommend', 'receipt', 'receive', 'received', 'receives', 'receiving', 'recent', 'recently', 'reception', 'recessed', 'recharge', 'recieve', 'recognition', 'recognizes', 'recommend', 'recommendation', 'recommended', 'recommending', 'reconciliation', 'recover', 'recurring', 'red', 'redeemed', 'redeeming', 'reduction', 'reenactments', 'references', 'refill', 'reflected', 'refrained', 'refreshing', 'refried', 'refund', 'refurb', 'refuse', 'refused', 'regarding', 'regardless', 'register', 'regret', 'regrettable', 'regrettably', 'regretted', 'regular', 'regularly', 'reheated', 'rejection', 'relate', 'related', 'relation', 'relations', 'relationship', 'relationships', 'relative', 'relatively', 'relax', 'relaxed', 'relaxing', 'release', 'released', 'reliability', 'relief', 'relleno', 'relocated', 'relying', 'remaining', 'remake', 'remarkable', 'remember', 'reminded', 'reminds', 'remorse', 'remotely', 'removing', 'rendering', 'renders', 'rendition', 'renowned', 'rent', 'reoccure', 'repair', 'repeated', 'repeating', 'repeats', 'repertory', 'replace', 'replaced', 'replacement', 'replacementr', 'replenished', 'reporter', 'represents', 'requested', 'require', 'requirements', 'rescue', 'research', 'researched', 'reservation', 'resistant', 'resolution', 'resounding', 'respect', 'respecting', 'rest', 'restaraunt', 'restart', 'restaurant', 'restaurants', 'restocking', 'restored', 'restrained', 'rests', 'result', 'results', 'resume', 'retarded', 'retreat', 'return', 'returned', 'returning', 'revealing', 'revenge', 'revere', 'reverse', 'reversible', 'review', 'reviewer', 'reviewers', 'reviewing', 'reviews', 'revisiting', 'rge', 'ri', 'rib', 'ribeye', 'rice', 'rich', 'rick', 'rickman', 'ride', 'ridiculous', 'ridiculousness', 'right', 'riingtones', 'ring', 'ringer', 'ringing', 'rings', 'ringtones', 'rinse', 'riot', 'rip', 'ripped', 'rips', 'rise', 'risk', 'risotto', 'rita', 'rivalry', 'riveted', 'riz', 'road', 'roam', 'roast', 'roasted', 'robert', 'robotic', 'rochon', 'rock', 'rocked', 'rocketed', 'rocks', 'roeg', 'role', 'roles', 'roll', 'rolled', 'roller', 'rolls', 'romantic', 'room', 'roosevelt', 'rotating', 'roth', 'rough', 'round', 'routine', 'row', 'rowdy', 'rpg', 'rpger', 'rubber', 'rubbish', 'rubin', 'rude', 'rudely', 'rumbles', 'run', 'running', 'runs', 'rushed', 'ruthless', 'ryan', 'ryans', 'sabotages', 'sack', 'sacrifice', 'sad', 'sadly', 'saffron', 'saganaki', 'saggy', 'said', 'sake', 'salad', 'salads', 'salesman', 'salmon', 'sals', 'salsa', 'salt', 'salty', 'sam', 'sample', 'samsung', 'san', 'sand', 'sandra', 'sandwich', 'sandwiches', 'sangria', 'sanyo', 'sappiest', 'sarcophage', 'sashimi', 'sat', 'satanic', 'satifying', 'satisfied', 'satisfying', 'satisifed', 'sauce', 'sauces', 'sause', 'savalas', 'savant', 'save', 'saved', 'saving', 'savor', 'saw', 'say', 'saying', 'says', 'scale', 'scallop', 'scamp', 'scare', 'scared', 'scares', 'scary', 'scene', 'scenery', 'scenes', 'sch', 'schilling', 'schizophrenic', 'school', 'schoolers', 'schrader', 'schultz', 'sci', 'science', 'scientist', 'score', 'scot', 'scottsdale', 'scratch', 'scratched', 'scream', 'screams', 'screamy', 'screen', 'screened', 'screenplay', 'screens', 'screenwriter', 'screwed', 'scrimm', 'script', 'scripted', 'scripting', 'scripts', 'sculpture', 'sea', 'seafood', 'seal', 'seamless', 'seamlessly', 'sean', 'searched', 'season', 'seasonal', 'seasoned', 'seasoning', 'seat', 'seated', 'seating', 'second', 'secondary', 'secondly', 'seconds', 'section', 'secure', 'securely', 'securly', 'see', 'seeen', 'seeing', 'seem', 'seemed', 'seems', 'seen', 'selection', 'selections', 'self', 'seller', 'sells', 'semi', 'send', 'sending', 'senior', 'sense', 'senses', 'sensibility', 'sensitive', 'sensitivities', 'sensor', 'sent', 'sentiment', 'seperate', 'seperated', 'sequel', 'sequels', 'sequence', 'sequences', 'sergeant', 'series', 'serious', 'seriously', 'serivce', 'serve', 'served', 'server', 'servers', 'serves', 'service', 'services', 'serving', 'set', 'sets', 'setting', 'settings', 'setup', 'seuss', 'sever', 'several', 'severe', 'sewer', 'sex', 'sexy', 'shakespear', 'shakespears', 'shall', 'shallow', 'shame', 'shameful', 'shape', 'share', 'sharing', 'sharp', 'sharply', 'shatner', 'shattered', 'shawarrrrrrma', 'shed', 'sheer', 'shelf', 'shell', 'shelves', 'shenanigans', 'shepard', 'shield', 'shifting', 'shine', 'shined', 'shiny', 'shipment', 'shipped', 'shipping', 'shirley', 'shirt', 'shocked', 'shocking', 'shoe', 'shooters', 'shooting', 'shoots', 'shop', 'shopping', 'shops', 'short', 'shortlist', 'shot', 'shots', 'shouldve', 'shouting', 'show', 'showcasing', 'showed', 'shower', 'shows', 'shrimp', 'shut', 'sibling', 'sick', 'side', 'sidelined', 'sides', 'sight', 'sign', 'signal', 'signals', 'significant', 'significantly', 'signs', 'silent', 'silently', 'silly', 'sim', 'similar', 'similarly', 'simmering', 'simple', 'simpler', 'simplifying', 'simply', 'since', 'sincere', 'sing', 'singing', 'single', 'sinister', 'sink', 'sinking', 'sins', 'sister', 'sisters', 'sit', 'sitcoms', 'site', 'sites', 'sits', 'sitting', 'situation', 'situations', 'six', 'size', 'sizes', 'sketchy', 'skilled', 'skimp', 'skip', 'skype', 'slackers', 'slavic', 'slaw', 'sleek', 'sleep', 'sliced', 'slices', 'slid', 'slide', 'slider', 'slideshow', 'sliding', 'slightest', 'slightly', 'slim', 'slimy', 'slipping', 'sloppy', 'slow', 'slowly', 'slurs', 'smack', 'small', 'smaller', 'smallest', 'smart', 'smartphone', 'smashburger', 'smeared', 'smell', 'smelled', 'smells', 'smile', 'smiling', 'smith', 'smoke', 'smoking', 'smooth', 'smoother', 'smoothies', 'smoothly', 'smudged', 'snap', 'snider', 'snow', 'snug', 'soap', 'sobering', 'social', 'soft', 'software', 'soggy', 'soi', 'sold', 'soldiers', 'sole', 'solid', 'solidify', 'solidifying', 'solving', 'somehow', 'someone', 'somethat', 'something', 'sometimes', 'somewhat', 'somewhere', 'son', 'song', 'songs', 'sony', 'soon', 'sooner', 'soooo', 'sooooo', 'soooooo', 'sophisticated', 'sore', 'sorely', 'sorrentino', 'sorry', 'sort', 'sos', 'soul', 'sound', 'sounded', 'sounds', 'soundtrack', 'soup', 'soups', 'sour', 'source', 'sources', 'south', 'southern', 'southwest', 'soyo', 'space', 'spacek', 'spacey', 'spaghetti', 'span', 'speak', 'speaker', 'speakerphone', 'speaking', 'special', 'specially', 'specials', 'specs', 'speed', 'speedy', 'spend', 'spends', 'spent', 'spew', 'sphere', 'spice', 'spices', 'spicier', 'spicy', 'spiffy', 'spinach', 'spinn', 'splendid', 'spock', 'spoil', 'spoiled', 'spoiler', 'spoilers', 'sporting', 'spot', 'spots', 'spotty', 'spring', 'sprint', 'sprouts', 'spy', 'squibs', 'stable', 'staff', 'stage', 'stagey', 'stagy', 'stale', 'stand', 'standard', 'standout', 'stanwyck', 'star', 'starlet', 'starring', 'stars', 'start', 'startac', 'started', 'starter', 'starts', 'starving', 'state', 'stated', 'static', 'station', 'stay', 'stayed', 'staying', 'stays', 'steak', 'steakhouse', 'steaks', 'stealing', 'steamboat', 'steele', 'steep', 'steer', 'steiners', 'step', 'stephen', 'stepped', 'stereo', 'stereotypes', 'stereotypically', 'steve', 'stewart', 'stick', 'sticks', 'still', 'stinker', 'stinks', 'stir', 'stocking', 'stockings', 'stoic', 'stomach', 'stood', 'stop', 'stopped', 'stops', 'storage', 'store', 'stories', 'storm', 'story', 'storyline', 'storytelling', 'stowe', 'strange', 'stranger', 'strangers', 'strap', 'stratus', 'straw', 'strawberry', 'stream', 'street', 'strength', 'stress', 'stretch', 'strident', 'strike', 'string', 'strings', 'strip', 'strives', 'strokes', 'strong', 'struck', 'structure', 'struggle', 'stuart', 'stuck', 'student', 'students', 'studio', 'study', 'stuff', 'stuffed', 'stunning', 'stupid', 'stupidity', 'sturdiness', 'sturdy', 'style', 'styles', 'styling', 'stylish', 'stylized', 'styrofoam', 'sub', 'subject', 'subjects', 'sublime', 'sublimely', 'submerged', 'subpar', 'subplots', 'subtitles', 'subtle', 'subversive', 'subverting', 'subway', 'succeeded', 'succeeds', 'success', 'succulent', 'suck', 'sucked', 'sucker', 'sucks', 'sudden', 'suddenly', 'suffered', 'suffering', 'suffers', 'sugar', 'sugary', 'suggest', 'suggestions', 'suggests', 'suited', 'sum', 'summarize', 'summary', 'summer', 'sun', 'sunday', 'sundays', 'sunglasses', 'super', 'superb', 'superbad', 'superbly', 'superfast', 'superficial', 'superlative', 'supernatural', 'supertooth', 'support', 'supporting', 'supposed', 'supposedly', 'suprised', 'sure', 'surefire', 'surely', 'surf', 'surface', 'surprise', 'surprised', 'surprises', 'surprising', 'surprisingly', 'surrounding', 'surroundings', 'survived', 'survivors', 'sushi', 'suspense', 'suspension', 'sven', 'swamp', 'sweep', 'sweet', 'sweetest', 'switch', 'switched', 'swivel', 'swords', 'swung', 'sydney', 'sympathetic', 'sync', 'synchronization', 'syrupy', 'system', 'table', 'tables', 'tacky', 'taco', 'tacos', 'taelons', 'tailored', 'take', 'taken', 'takeout', 'takes', 'taking', 'tale', 'talent', 'talented', 'talents', 'talk', 'talking', 'tanks', 'tap', 'tapas', 'tape', 'taped', 'tardis', 'tartar', 'tartare', 'task', 'taste', 'tasted', 'tasteless', 'tastings', 'tasty', 'tater', 'taxidermists', 'taylor', 'tea', 'teacher', 'teaches', 'team', 'teamwork', 'tear', 'tears', 'tech', 'technically', 'technology', 'teddy', 'tedium', 'teen', 'teenagers', 'teeth', 'telephone', 'television', 'tell', 'telly', 'temp', 'temperaments', 'ten', 'tender', 'tenders', 'tension', 'tensions', 'tepid', 'terminology', 'terms', 'terrible', 'terribly', 'terrific', 'terror', 'texas', 'text', 'texture', 'th', 'thai', 'thank', 'thanks', 'thats', 'theater', 'theatre', 'theatres', 'theatrical', 'theft', 'theme', 'themes', 'theory', 'therapy', 'thereplacement', 'thick', 'thin', 'thing', 'things', 'think', 'thinking', 'thinly', 'third', 'thirty', 'thomerson', 'thorn', 'thoroughly', 'thorsen', 'though', 'thought', 'thoughts', 'thousand', 'thread', 'three', 'threshold', 'threw', 'thrilled', 'thriller', 'thrillers', 'throughout', 'throwback', 'thrown', 'thru', 'ths', 'thug', 'thumbs', 'thumper', 'thunderbirds', 'thus', 'tick', 'ticker', 'tickets', 'ticking', 'tied', 'tigerlilly', 'tight', 'tightly', 'time', 'timeframe', 'timeless', 'timely', 'timers', 'times', 'timing', 'tinny', 'tiny', 'tip', 'tips', 'tiramisu', 'tired', 'title', 'titta', 'tmobile', 'toactivate', 'toast', 'toasted', 'today', 'together', 'toilet', 'told', 'tolerable', 'tolerance', 'tolerate', 'tom', 'tomato', 'tomorrow', 'tone', 'tones', 'tongue', 'tonight', 'tons', 'tony', 'took', 'tool', 'tools', 'toons', 'tooth', 'top', 'topic', 'tops', 'toro', 'torture', 'tortured', 'total', 'totally', 'tots', 'touch', 'touched', 'touches', 'touching', 'tough', 'towards', 'towers', 'town', 'townsend', 'tracfone', 'tracfonewebsite', 'track', 'tracked', 'tracking', 'tract', 'traditional', 'traffic', 'tragedy', 'trailer', 'train', 'tranquillity', 'transceiver', 'transcend', 'transcendant', 'transfer', 'transfers', 'transformed', 'translate', 'translating', 'transmission', 'transmit', 'transmitters', 'trap', 'trash', 'trashy', 'travled', 'treachery', 'treasure', 'treat', 'treated', 'treatments', 'trek', 'tremendous', 'tremendously', 'treo', 'tribute', 'tricky', 'tried', 'tries', 'trilogy', 'trimmed', 'trinity', 'trip', 'trippy', 'trips', 'triumphed', 'trond', 'trooper', 'trouble', 'truck', 'true', 'truffle', 'truly', 'trumbull', 'trumpeter', 'trunk', 'trust', 'truth', 'try', 'trying', 'trysts', 'tsunami', 'tucson', 'tummy', 'tuna', 'tuneful', 'tungsten', 'turkey', 'turn', 'turned', 'turns', 'tv', 'twice', 'twirling', 'twist', 'twists', 'two', 'tying', 'type', 'typical', 'ue', 'ugliest', 'ugly', 'uhura', 'ultra', 'um', 'unacceptable', 'unacceptible', 'unaccompanied', 'unbearable', 'unbearably', 'unbelievable', 'unbelievably', 'uncalled', 'uncomfortable', 'unconditional', 'unconvincing', 'underacting', 'underappreciated', 'underbite', 'undercooked', 'underlines', 'underlying', 'underneath', 'underrated', 'understand', 'understanding', 'understated', 'understatement', 'understood', 'undertone', 'underwater', 'underwhelming', 'undoubtedly', 'uneasy', 'unemployed', 'unethical', 'unexperienced', 'unfaithful', 'unfolds', 'unforgettable', 'unfortunate', 'unfortunately', 'unfunny', 'unhappy', 'unhealthy', 'uninspired', 'unintelligible', 'unintentionally', 'uninteresting', 'union', 'unique', 'uniqueness', 'unit', 'units', 'universal', 'universe', 'unknown', 'unless', 'unlike', 'unlockable', 'unmatched', 'unmitigated', 'unmoving', 'unnecessary', 'unneeded', 'unoriginal', 'unpleasant', 'unpredictability', 'unpredictable', 'unprofessional', 'unreal', 'unrealistic', 'unrecognizable', 'unrecommended', 'unreliable', 'unremarkable', 'unrestrained', 'unsatisfactory', 'unsatisfying', 'untoasted', 'unusable', 'unwatchable', 'unwelcome', 'unwrapped', 'upa', 'upbeat', 'update', 'upgrade', 'upgrading', 'uplifting', 'upload', 'uploaded', 'upper', 'ups', 'upstairs', 'uptight', 'ursula', 'us', 'usable', 'usage', 'usb', 'use', 'used', 'useful', 'usefulness', 'useless', 'user', 'uses', 'using', 'ussr', 'usual', 'usually', 'utter', 'utterly', 'vacant', 'vain', 'valentine', 'valley', 'value', 'values', 'vampire', 'vandiver', 'vanilla', 'variation', 'veal', 'vegan', 'vegas', 'vegetables', 'vegetarian', 'veggie', 'veggitarian', 'vehicle', 'vehicles', 'velvet', 'ventilation', 'ventura', 'venture', 'venturing', 'venue', 'verbal', 'verbatim', 'verge', 'verizon', 'versatile', 'version', 'versus', 'vessel', 'veteran', 'vey', 'via', 'vibe', 'victor', 'video', 'videos', 'view', 'viewer', 'viewing', 'views', 'villain', 'villains', 'vinaigrette', 'vinegrette', 'violence', 'violin', 'violinists', 'virgin', 'virtue', 'virus', 'vision', 'visit', 'visited', 'visor', 'visual', 'visually', 'vitally', 'vivian', 'vivid', 'vocal', 'vodka', 'voice', 'volatile', 'volcano', 'voltage', 'volume', 'vomit', 'vomited', 'voodoo', 'voted', 'voyage', 'vulcan', 'vx', 'waaaaaayyyyyyyyyy', 'waaay', 'wagyu', 'wait', 'waited', 'waiter', 'waiting', 'waitress', 'waitresses', 'wake', 'walk', 'walked', 'walkman', 'wall', 'wallet', 'walls', 'want', 'wanted', 'wanting', 'wants', 'war', 'warm', 'warmer', 'warmth', 'warn', 'warning', 'warnings', 'warranty', 'wartime', 'warts', 'wash', 'washed', 'washing', 'waste', 'wasted', 'waster', 'wasting', 'watch', 'watchable', 'watched', 'watching', 'water', 'watered', 'waterproof', 'watkins', 'watson', 'wave', 'way', 'waylaid', 'wayne', 'ways', 'wayyy', 'wb', 'weak', 'weaker', 'wear', 'weariness', 'wearing', 'weaving', 'web', 'website', 'websites', 'wedding', 'wedges', 'week', 'weekend', 'weekly', 'weeks', 'weight', 'weird', 'welcome', 'well', 'welsh', 'went', 'whatever', 'whatsoever', 'whelm', 'whenever', 'whether', 'whine', 'whiny', 'whistles', 'white', 'whites', 'whoa', 'whoever', 'whole', 'wholesome', 'whose', 'wi', 'wide', 'widmark', 'wienerschnitzel', 'wife', 'wih', 'wild', 'wildly', 'wilkinson', 'william', 'willie', 'wily', 'win', 'wind', 'window', 'windows', 'wine', 'wines', 'wings', 'winner', 'wiping', 'wire', 'wired', 'wirefly', 'wireless', 'wise', 'wish', 'wit', 'within', 'without', 'witnessed', 'witticisms', 'witty', 'woa', 'wobbly', 'women', 'wonder', 'wondered', 'wonderful', 'wonderfully', 'wong', 'wont', 'wontons', 'woo', 'wood', 'wooden', 'word', 'words', 'work', 'worked', 'worker', 'workers', 'working', 'works', 'world', 'worn', 'worries', 'worry', 'worse', 'worst', 'worth', 'worthless', 'worthwhile', 'worthy', 'would', 'wouldnt', 'wound', 'woven', 'wow', 'wrap', 'wrapped', 'write', 'writer', 'writers', 'writing', 'written', 'wrong', 'wrongly', 'wrote', 'x', 'ya', 'yama', 'yardley', 'yawn', 'yay', 'yeah', 'year', 'years', 'yell', 'yellow', 'yellowtail', 'yelpers', 'yelps', 'yes', 'yet', 'young', 'younger', 'youthful', 'youtube', 'yucky', 'yukon', 'yum', 'yummy', 'yun', 'zero', 'zillion', 'zombie', 'zombiez']\n"
          ]
        }
      ]
    },
    {
      "cell_type": "code",
      "source": [
        "# Aplicamos el proceso de limpieza/normalización adicionales:\n",
        "\n",
        "Xclean = [clean_doc(x) for x in Xcleantok]"
      ],
      "metadata": {
        "id": "1pIMQaRSSMfd"
      },
      "execution_count": 21,
      "outputs": []
    },
    {
      "cell_type": "code",
      "source": [
        "Xclean[0:20]"
      ],
      "metadata": {
        "colab": {
          "base_uri": "https://localhost:8080/"
        },
        "id": "F0OxOXN1STP1",
        "outputId": "73a549d9-10a3-4231-fb7a-8687a7875f4b"
      },
      "execution_count": 22,
      "outputs": [
        {
          "output_type": "execute_result",
          "data": {
            "text/plain": [
              "[['way', 'plug', 'us', 'unless', 'go', 'converter'],\n",
              " ['good', 'case', 'excellent', 'value'],\n",
              " ['great', 'jawbone'],\n",
              " ['tie', 'charger', 'conversation', 'last', 'minute', 'major', 'problem'],\n",
              " ['mic', 'great'],\n",
              " ['jiggle', 'plug', 'get', 'line', 'right', 'get', 'decent', 'volume'],\n",
              " ['several',\n",
              "  'dozen',\n",
              "  'several',\n",
              "  'hundred',\n",
              "  'contact',\n",
              "  'imagine',\n",
              "  'fun',\n",
              "  'send',\n",
              "  'one',\n",
              "  'one'],\n",
              " ['razr', 'owner', 'must'],\n",
              " ['needle', 'say', 'waste', 'money'],\n",
              " ['waste', 'money', 'time'],\n",
              " ['sound', 'quality', 'great'],\n",
              " ['impress', 'go', 'original', 'battery', 'extend', 'battery'],\n",
              " ['two',\n",
              "  'seperated',\n",
              "  'mere',\n",
              "  'ft',\n",
              "  'start',\n",
              "  'notice',\n",
              "  'excessive',\n",
              "  'static',\n",
              "  'garble',\n",
              "  'sound',\n",
              "  'headset'],\n",
              " ['good', 'quality', 'though'],\n",
              " ['design', 'odd', 'ear', 'clip', 'comfortable'],\n",
              " ['highly', 'recommend', 'one', 'blue', 'tooth', 'phone'],\n",
              " ['advise', 'everyone', 'fool'],\n",
              " ['far', 'good'],\n",
              " ['work', 'great'],\n",
              " ['click',\n",
              "  'place',\n",
              "  'way',\n",
              "  'make',\n",
              "  'wonder',\n",
              "  'long',\n",
              "  'mechanism',\n",
              "  'would',\n",
              "  'last']]"
            ]
          },
          "metadata": {},
          "execution_count": 22
        }
      ]
    },
    {
      "cell_type": "markdown",
      "source": [
        "#**Pregunta 3**\n",
        "\n",
        "Llamar Xclean a los comentarios procesados y Y a las etiquetas. Realicemos una partición aleatoria con los mismos porcentajes de la práctica pasada para poder comparar dichos resultados con los de esta actividad, a saber, 70%, 15% y 15%, para entrenamiento, validación y prueba, respectivamente. Verifica que obtienes 2,100 registros de entrenamiento y 450 para cada uno de validación y prueba.\n"
      ],
      "metadata": {
        "id": "wDOBBjn9Wp__"
      }
    },
    {
      "cell_type": "code",
      "source": [
        "# Xclean = Comentarios procesados\n",
        "# Y = etiquetas\n",
        "\n",
        "x_train, x_val_and_test, y_train, y_val_and_test = train_test_split(Xclean, Y, train_size=.70, shuffle=True, random_state=1) \n",
        "x_val, x_test, y_val, y_test = train_test_split(x_val_and_test, y_val_and_test, test_size=.50, shuffle=True, random_state=17)\n",
        "\n",
        "print('X,y Train:', len(x_train), len(y_train))\n",
        "print('X,y Val:', len(x_val), len(y_val))\n",
        "print('X,y Test', len(x_test), len(y_test))"
      ],
      "metadata": {
        "colab": {
          "base_uri": "https://localhost:8080/"
        },
        "id": "w88pAxNzX3Zu",
        "outputId": "73737594-bac2-4f25-ede3-093c89664e3b"
      },
      "execution_count": 23,
      "outputs": [
        {
          "output_type": "stream",
          "name": "stdout",
          "text": [
            "X,y Train: 2100 2100\n",
            "X,y Val: 450 450\n",
            "X,y Test 450 450\n"
          ]
        }
      ]
    },
    {
      "cell_type": "markdown",
      "source": [
        "# **Pregunta 4**\n",
        "\n",
        "- Usando el conjunto de entrenamiento genera un vocabulario que no sea mayor a 1,500 palabras, ni menor a 1,000.\n",
        "\n",
        ">> **¿Por qué es importante acotar un vocabulario inferior y superiormente? ¿Por qué debe usarse solamente el conjunto de entrenamiento para generar el diccionario?**\n",
        "\n",
        ">>*Se acota el vocabulario porque se emplean las palabras que sólo aportan valor al análisis del corpus, generalmente las que tienen mayor frecuencia de aparición. Se emplea únicamente el diccionario del conjunto de entrenamiento para evitar el filtrado de información cuando se verifica el desempeño del modelo en los conjuntos de validación y prueba. Solamente estarán disponibles los elementos del diccionario del conjunto de entrenamiento para realizar las predicciones en los conjuntos posteriores.*\n",
        "\n",
        "- Con este vocabulario que obtienes, filtra los conjuntos de entrenamiento, validación y prueba, de esta manera todos los comentarios usarán solamente palabras válidas de acuerdo a este vocabulario.\n",
        "\n",
        "- Indica el tamaño del vocabulario obtenido.\n",
        "\n",
        "- Hasta este punto básicamente has realizado transformaciones muy análogas a las de la semana pasada y que son válidas para muchos de los procesos dentro del análisis de textos.\n",
        "\n",
        "- En dado caso comenta con tus compañeros de equipo qué diferencias has observado. Veamos ahora la diferencia con respecto a las matrices Tf-idf que aplicaste la semana pasada, con respecto a los vectores **preentrenados embebidos.**"
      ],
      "metadata": {
        "id": "Gq3yjgMbYtmG"
      }
    },
    {
      "cell_type": "code",
      "source": [
        "#Se importa el módulo Counter\n",
        "from collections import Counter\n",
        "\n",
        "#Se importa el módulo plt\n",
        "import matplotlib.pyplot as plt\n",
        "\n",
        "#Se asigna un objeto de clase Counter\n",
        "midiccionario = Counter()    \n",
        "\n",
        "#Se crea el diccionario con las palabras del conjunto de entrenamiento\n",
        "for k in range(len(x_train)):\n",
        "  midiccionario.update(x_train[k])\n",
        "\n",
        "\n",
        "print('Longitud del diccionario:', len(midiccionario))  \n",
        "print('\\n(word,frequency):') \n",
        "print(midiccionario.most_common(10))\n",
        "\n",
        "# Veamos la gráfica de palabras nuestro diccionario con base a la frecuencia de las palabras/tokens:\n",
        "plt.plot(list(np.arange(len(midiccionario))), list(midiccionario.values()), color='blue')\n",
        "plt.show()"
      ],
      "metadata": {
        "id": "-_cb3UzBwtVb",
        "outputId": "89444e76-9828-4bf9-c949-1cb6279b1277",
        "colab": {
          "base_uri": "https://localhost:8080/",
          "height": 499
        }
      },
      "execution_count": 24,
      "outputs": [
        {
          "output_type": "stream",
          "name": "stdout",
          "text": [
            "Longitud del diccionario: 3265\n",
            "\n",
            "(word,frequency):\n",
            "[('good', 165), ('movie', 140), ('great', 138), ('phone', 134), ('film', 130), ('work', 113), ('like', 101), ('time', 101), ('one', 100), ('go', 89)]\n"
          ]
        },
        {
          "output_type": "display_data",
          "data": {
            "text/plain": [
              "<Figure size 640x480 with 1 Axes>"
            ],
            "image/png": "[encoded data removed]"
          },
          "metadata": {}
        }
      ]
    },
    {
      "cell_type": "markdown",
      "source": [
        "**Filtrado por frecuencia de aparición hasta llegar al tamaño de vocabulario deseado**"
      ],
      "metadata": {
        "id": "VNcZad_yyIvk"
      }
    },
    {
      "cell_type": "code",
      "source": [
        "#Frecuencia mínima deseada\n",
        "min_freq = 2\n",
        "\n",
        "#Copia de midiccionario para realizar operaciones\n",
        "midicc = midiccionario.copy()\n",
        "\n",
        "#Ciclo para filtar los elementos con base a su frecuencia\n",
        "for x in midiccionario:   \n",
        "  if midiccionario[x] < min_freq:\n",
        "    del midicc[x]   #Eliminar tokens con menos frecuencia que la deseada\n",
        "\n",
        "print('Nueva longitud del nuevo vocabulario:', len(midicc))\n",
        "print(list(midicc.items())[0:5])     # veamos algunos elementos del diccionario."
      ],
      "metadata": {
        "id": "SBDoD_d0x8yz",
        "outputId": "83440c87-f789-4015-fc8b-285c8fb93fb1",
        "colab": {
          "base_uri": "https://localhost:8080/"
        }
      },
      "execution_count": 25,
      "outputs": [
        {
          "output_type": "stream",
          "name": "stdout",
          "text": [
            "Nueva longitud del nuevo vocabulario: 1429\n",
            "[('star', 18), ('fare', 2), ('much', 39), ('better', 38), ('people', 23)]\n"
          ]
        }
      ]
    },
    {
      "cell_type": "code",
      "source": [
        "#Se filtran los todos los conjuntos con el nuevo diccionario\n",
        "train_x = []\n",
        "train_y = []\n",
        "for ss, y in zip(x_train, y_train):\n",
        "  tokens = []\n",
        "  for w in ss:\n",
        "    if w in midicc:\n",
        "      tokens.append(w)\n",
        "\n",
        "  #Solo añadir a las listas si el token existe en el diccionario\n",
        "  if len(tokens) > 0:    \n",
        "    train_x.append(tokens)\n",
        "    train_y.append(y)\n",
        "\n",
        "val_x = []\n",
        "val_y = []\n",
        "for ss, y in zip(x_val, y_val):\n",
        "  tokens = []\n",
        "  #train_x.append([w for w in ss if w in midicc])\n",
        "  for w in ss:\n",
        "    if w in midicc:\n",
        "      tokens.append(w)\n",
        "\n",
        "  #Solo añadir a las listas si el token existe en el diccionario\n",
        "  if len(tokens) > 0:\n",
        "    val_x.append(tokens)\n",
        "    val_y.append(y)\n",
        "\n",
        "test_x = []\n",
        "test_y = []\n",
        "for ss, y in zip(x_test, y_test):\n",
        "  tokens = []\n",
        "  #train_x.append([w for w in ss if w in midicc])\n",
        "  for w in ss:\n",
        "    if w in midicc:\n",
        "      tokens.append(w)\n",
        "\n",
        "  #Solo añadir a las listas si el token existe en el diccionario\n",
        "  if len(tokens) > 0:    \n",
        "    test_x.append(tokens)\n",
        "    test_y.append(y)"
      ],
      "metadata": {
        "id": "oCg0nFcxG-pM"
      },
      "execution_count": 26,
      "outputs": []
    },
    {
      "cell_type": "code",
      "source": [
        "# Podemos ver algunos de los comentarios de entrenamiento, antes y después \n",
        "# de incluir la condición de la frecuencia mínima de ocurrencia de un token:\n",
        "\n",
        "for k in range(3):\n",
        "  print('Antes:', x_train[k])\n",
        "  print('Antes x_train:', len(x_train))\n",
        "  print('Antes y_train:', len(y_train))\n",
        "  print('Después:', train_x[k])\n",
        "  print('Después:', len(train_x))\n",
        "  print('Después:', len(train_y))"
      ],
      "metadata": {
        "colab": {
          "base_uri": "https://localhost:8080/"
        },
        "id": "nRoQLNtZNL0y",
        "outputId": "08dc07ee-3a19-407b-90bb-43e6485340ab"
      },
      "execution_count": 27,
      "outputs": [
        {
          "output_type": "stream",
          "name": "stdout",
          "text": [
            "Antes: ['co', 'star', 'fare', 'much', 'better', 'people', 'like', 'morgan', 'freeman', 'jonah', 'hill', 'ed', 'helm', 'waste']\n",
            "Antes x_train: 2100\n",
            "Antes y_train: 2100\n",
            "Después: ['star', 'fare', 'much', 'better', 'people', 'like', 'morgan', 'ed', 'waste']\n",
            "Después: 2090\n",
            "Después: 2090\n",
            "Antes: ['tonight', 'elk', 'filet', 'special', 'suck']\n",
            "Antes x_train: 2100\n",
            "Antes y_train: 2100\n",
            "Después: ['tonight', 'filet', 'special', 'suck']\n",
            "Después: 2090\n",
            "Después: 2090\n",
            "Antes: ['pay', 'bill', 'tip', 'felt', 'server', 'terrible', 'job']\n",
            "Antes x_train: 2100\n",
            "Antes y_train: 2100\n",
            "Después: ['pay', 'bill', 'tip', 'felt', 'server', 'terrible', 'job']\n",
            "Después: 2090\n",
            "Después: 2090\n"
          ]
        }
      ]
    },
    {
      "cell_type": "markdown",
      "source": [
        "# **Pregunta 5**\n",
        "Utilizarás los vectores embebidos FastText preentrenados por Facebook.\n",
        "\n",
        "Incluye una tabla comparativa de pros y contras entre los modelos FastText, word2vec de Google y Glove de Stanford. Puedes consultar sus páginas correspondientes:\n",
        "- https://fasttext.cc/\n",
        "- https://code.google.com/archive/p/word2vec/\n",
        "- https://nlp.stanford.edu/projects/glove/"
      ],
      "metadata": {
        "id": "3_ySQygSEdcK"
      }
    },
    {
      "cell_type": "markdown",
      "source": [
        "| Características | FastText | Word2Vec | GloVe |\n",
        "| ----------- | ----------- | ----------- | ----------- |\n",
        "| **Institución desarrolladora** | Facebook AI | Google | Stanford University |\n",
        "| **Modelo** | Basado en la arquitectura de skip-gram y CBOW | Basado en las arquitecturas de skip-gram y CBOW | Basado en la matriz de co-ocurrencia de palabras en el corpus |\n",
        "| **Manejo de palabras fuera del vocabulario (OOV)** | Buen manejo gracias al uso de n-grams subwords | No lo soporta | No lo soporta |\n",
        "| **Manejo de palabras raras** | Buen manejo gracias al uso de n-grams subwords | Puede tener dificultades con palabras raras | Buen manejo dependiendo de la frecuencia en la matriz de co-ocurrencia |\n",
        "| **Velocidad de entrenamiento** | Media | Rápido | Lento en comparación con FastText y Word2Vec debido al uso de la matriz de co-ocurrencia |\n",
        "| **Dimensiones de los vectores** | Configurable, hasta 300 dimensiones | Configurable, hasta 300 dimensiones | Configurable, hasta 300 dimensiones |\n",
        "| **Requisitos de memoria** | Moderados, debido a los subwords n-grams | Bajos, sólo necesita palabras y contextos | Altos, debido a la matriz de co-ocurrencia |\n",
        "| **Interpretación semántica** | Buena, similar a Word2Vec | Buena, basada en contextos cercanos | Buena, basada en relaciones semánticas y sintácticas |\n",
        "\n",
        "\n",
        "<br>\n",
        "\n",
        "Es importante mencionar que cada uno de estos modelos puede ser el más adecuado dependiendo de las necesidades específicas del problema que se esté abordando.\n",
        "\n",
        "Por ejemplo, si necesitas manejar palabras fuera del vocabulario o palabras raras, FastText podría ser la mejor opción; si la memoria es una limitación, Word2Vec podría ser más adecuado; GloVe, por otro lado, podría ser más útil para capturar relaciones semánticas y sintácticas entre palabras.\n",
        "\n",
        "Por otro lado, GloVe podría desempeñarse mejor que Word2Vec para tareas de analogía de palabras, y también muestra un desempeño superior en tareas de similitud y de reconocimiento de nombre de entidades. Mientras que FastText logra un mejor desempeño en tareas sintácticas. Por último, Word2Vec sobrepasa a FastText en tareas semánticas.\n"
      ],
      "metadata": {
        "id": "DD8-dBWo9T9j"
      }
    },
    {
      "cell_type": "markdown",
      "source": [
        "# **Pregunta 6**\n",
        "Utiliza el modelo FastText de vectores embebidos pre-entrenados de dimensión 300 para generar un nuevo diccionario clave-valor, donde la “clave” será cada token o palabra de tu vocabulario y el “valor” será su vector embebido de dimensión 300. Este diccionario deberá ser del mismo tamaño que el vocabulario previo que hayas construido previamente.\n",
        "https://fasttext.cc/docs/en/crawl-vectors.html\n",
        "\n",
        "NOTA: Debido a la cantidad de recursos computacionales que demanda cargar los vectores FastText (son 2 millones de vectores), es recomendable que una vez que generes el nuevo vocabulario de vectores embebidos, guardes dicho diccionario en un archivo (pickle, npz o el que consideres más adecuado). Una vez realizado lo anterior, puedes borrar la variable de FastText para liberar memoria RAM. De esta manera, ya tienes tu vocabulario de vectores embebidos de acuerdo a los tokens que consideras más adecuados para tu problema y puedes usarlo rápidamente\n",
        "cuando lo necesites. En dado caso apóyense entre los miembros del equipo de tener dificultades para generar el vocabulario y por mientras puedes usar el archivo del vocabulario que alguno haya generado."
      ],
      "metadata": {
        "id": "4Bf1J3AiEt-d"
      }
    },
    {
      "cell_type": "markdown",
      "source": [
        "**Se instala el módulo de fasttext**"
      ],
      "metadata": {
        "id": "9H3SjaXtFjbJ"
      }
    },
    {
      "cell_type": "code",
      "source": [
        "!pip install Cython --install-option=\"--no-cython-compile\"\n",
        "!pip install fasttext"
      ],
      "metadata": {
        "colab": {
          "base_uri": "https://localhost:8080/"
        },
        "id": "W8ZJ0jF1EcUq",
        "outputId": "64f1b7d0-6b50-424a-aa53-140694d777f5"
      },
      "execution_count": 28,
      "outputs": [
        {
          "output_type": "stream",
          "name": "stdout",
          "text": [
            "\n",
            "Usage:   \n",
            "  pip3 install [options] <requirement specifier> [package-index-options] ...\n",
            "  pip3 install [options] -r <requirements file> [package-index-options] ...\n",
            "  pip3 install [options] [-e] <vcs project url> ...\n",
            "  pip3 install [options] [-e] <local project path> ...\n",
            "  pip3 install [options] <archive url/path> ...\n",
            "\n",
            "no such option: --install-option\n",
            "Looking in indexes: https://pypi.org/simple, https://us-python.pkg.dev/colab-wheels/public/simple/\n",
            "Requirement already satisfied: fasttext in /usr/local/lib/python3.10/dist-packages (0.9.2)\n",
            "Requirement already satisfied: pybind11>=2.2 in /usr/local/lib/python3.10/dist-packages (from fasttext) (2.10.4)\n",
            "Requirement already satisfied: setuptools>=0.7.0 in /usr/local/lib/python3.10/dist-packages (from fasttext) (67.7.2)\n",
            "Requirement already satisfied: numpy in /usr/local/lib/python3.10/dist-packages (from fasttext) (1.22.4)\n"
          ]
        }
      ]
    },
    {
      "cell_type": "markdown",
      "source": [
        "**Se importa el módulo de fasttext**"
      ],
      "metadata": {
        "id": "2QeNah30Fz6T"
      }
    },
    {
      "cell_type": "code",
      "source": [
        "import fasttext\n",
        "import fasttext.util\n",
        "\n",
        "#Se descargan los el modelo de idioma inglés\n",
        "fasttext.util.download_model('en', if_exists='ignore')  # English"
      ],
      "metadata": {
        "colab": {
          "base_uri": "https://localhost:8080/"
        },
        "id": "WcwHjBoFF6sl",
        "outputId": "d2c6f0dc-1e79-4069-cc80-125b4c78a502"
      },
      "execution_count": null,
      "outputs": [
        {
          "output_type": "stream",
          "name": "stdout",
          "text": [
            "Downloading https://dl.fbaipublicfiles.com/fasttext/vectors-crawl/cc.en.300.bin.gz\n"
          ]
        }
      ]
    },
    {
      "cell_type": "code",
      "source": [
        "#Se utiliza el modelo FastText de vectores embebidos pre-entrenados de dimensión 300\n",
        "ft = fasttext.load_model('cc.en.300.bin')"
      ],
      "metadata": {
        "id": "KWrcylNjJVw4"
      },
      "execution_count": null,
      "outputs": []
    },
    {
      "cell_type": "code",
      "source": [
        "#Copia de midicc para realizar operaciones\n",
        "midicc_vec = midicc.copy()\n",
        "\n",
        "#asignar el vector resultante a cada elemento del diccionario\n",
        "for x in midicc_vec:   \n",
        "  midicc_vec[x] = ft.get_word_vector(x)\n",
        "\n",
        "print('Longitud del vocabulario de vectores embebidos:', len(midicc_vec))\n",
        "print('Las dimensiones de midicc_vec son: {},{}'.format(len(midicc_vec), len(list(midicc_vec.items())[0][1])))   # veamos algunos elementos del diccionario.\n",
        "print(list(midicc_vec.items())[0:1])     # veamos algunos elementos del diccionario."
      ],
      "metadata": {
        "id": "Cizy_S4-LDa0"
      },
      "execution_count": null,
      "outputs": []
    },
    {
      "cell_type": "markdown",
      "source": [
        "# **Pregunta 7**\n",
        "Una manera de utilizar los vectores embebidos con modelos de aprendizaje automático en\n",
        "documentos de texto, es asignar a cada comentario filtrado el vector embebido de dimensión 300\n",
        "que resulta de promediar todos sus tokens. Así, en este ejercicio deberás generar los arreglos\n",
        "correspondientes para los conjuntos de entrenamiento, validación y prueba. Los llamaremos\n",
        "trainEmb, valEmb y testEmb, respectivamente."
      ],
      "metadata": {
        "id": "CpRFOjOvwArc"
      }
    },
    {
      "cell_type": "code",
      "source": [
        "#Funcion para calcular el promedio de vectores en un documento\n",
        "def promedio_de_lista_de_vectores(vec_docs):\n",
        "\n",
        "  #Lista vacía\n",
        "  #vectores_promedio = []\n",
        "\n",
        "  #Ciclo para extraer el documento de vectores\n",
        "  for i in range(0,len(vec_docs)):\n",
        "\n",
        "    if i == 0:\n",
        "\n",
        "      #Se calcula el promedio de todos los vectores\n",
        "      vectores_promedio = [np.mean(vec_docs[i], axis = 0)]\n",
        "\n",
        "    else:\n",
        "      vector_promedio = [np.mean(vec_docs[i], axis = 0)]\n",
        "\n",
        "      #Se añade a la lista de vectores promedio\n",
        "      vectores_promedio = np.append(vectores_promedio, vector_promedio, axis = 0)\n",
        "\n",
        "  return vectores_promedio"
      ],
      "metadata": {
        "id": "ynopEhb0eMIg"
      },
      "execution_count": null,
      "outputs": []
    },
    {
      "cell_type": "code",
      "source": [
        "#función para transformar un conjunto de documentos a sus vectores embebidos en un diccionario\n",
        "def documento_a_documento_de_vectores_embebidos(docs, vect_dic):\n",
        "\n",
        "#Se inicializan lista vacía para el promedio de los vectores\n",
        "  emb_vect_doc = []\n",
        "\n",
        "  #Ciclo para extraer cada documento del conjunto\n",
        "  for doc in docs:\n",
        "\n",
        "    #Lista vacía temporal para juntar los vectores del diccionario\n",
        "    tmp_doc = []\n",
        "\n",
        "    #Ciclo para extraer todos los tokens del documento\n",
        "    for token in doc:\n",
        "\n",
        "      #Se obtiene y añade a la lista el vector correspondiente\n",
        "      tmp_doc.append(vect_dic[token])\n",
        "\n",
        "    #Se añade a la lista de vectores \n",
        "    emb_vect_doc.append(tmp_doc)\n",
        "\n",
        "  return emb_vect_doc"
      ],
      "metadata": {
        "id": "cLtl3z8SfU6O"
      },
      "execution_count": null,
      "outputs": []
    },
    {
      "cell_type": "code",
      "source": [
        "#Se transforman todos los tokens de cada documento a su vector correspondiente en el diccionario\n",
        "train_x_vect = documento_a_documento_de_vectores_embebidos(train_x, midicc_vec)\n",
        "val_x_vect = documento_a_documento_de_vectores_embebidos(val_x, midicc_vec)\n",
        "test_x_vect = documento_a_documento_de_vectores_embebidos(test_x, midicc_vec)\n",
        "\n",
        "print('La cantidad de elementos train_x_vect es: {}\\n'.format(len(train_x_vect)))\n",
        "print('La cantidad de elementos val_x_vect es: {}\\n'.format(len(val_x_vect)))\n",
        "print('La cantidad de elementos test_x_vect es: {}\\n'.format(len(test_x_vect)))"
      ],
      "metadata": {
        "id": "rSqw7RpbmSOt"
      },
      "execution_count": null,
      "outputs": []
    },
    {
      "cell_type": "markdown",
      "source": [
        "**¿Cuáles son sus dimensiones?**"
      ],
      "metadata": {
        "id": "ebsJniyVwOnr"
      }
    },
    {
      "cell_type": "code",
      "source": [
        "#Se calculan los vectores promedio de cada conjunto de documentos\n",
        "trainEmb = promedio_de_lista_de_vectores(train_x_vect)\n",
        "valEmb = promedio_de_lista_de_vectores(val_x_vect)\n",
        "testEmb = promedio_de_lista_de_vectores(test_x_vect)\n",
        "\n",
        "print('Las dimensiones de trainEmb son: {}\\n'.format(trainEmb.shape))\n",
        "print('Las dimensiones de valEmb son: {}\\n'.format(valEmb.shape))\n",
        "print('Las dimensiones de testEmb son: {}\\n'.format(testEmb.shape))"
      ],
      "metadata": {
        "id": "9trzJgjjjIGl"
      },
      "execution_count": null,
      "outputs": []
    },
    {
      "cell_type": "markdown",
      "source": [
        "**¿Se podrían usar para su representación matrices dispersas (sparse matrices) como en el caso de la matriz Tf-idf?**\n",
        "\n",
        "Al obtener el promedio de todos los vectores presentes en cada documento, se obtienen vectores de 300 elementos cada uno de con valores distintos a cero. En este caso se tiene una matriz densa, no una dispersa como las que se tratan en Ti-idf."
      ],
      "metadata": {
        "id": "6iWFHhXxwTJQ"
      }
    },
    {
      "cell_type": "markdown",
      "source": [
        "# **Pregunta 8**\n",
        "Utiliza los modelos de regresión lineal y bosque aleatorio (random forest) y encuentra sus\n",
        "desempeños (accuracy). Compara los resultados con los de la semana anterior."
      ],
      "metadata": {
        "id": "P-unf1wrx3aA"
      }
    },
    {
      "cell_type": "code",
      "source": [
        "from sklearn.linear_model import LogisticRegression\n",
        "from sklearn.ensemble import RandomForestClassifier\n",
        "from sklearn.model_selection import cross_val_score"
      ],
      "metadata": {
        "id": "_ByrS1Kvytfg"
      },
      "execution_count": null,
      "outputs": []
    },
    {
      "cell_type": "code",
      "source": [
        "#Se importa el métdo de GridSearchCV para búsqueda de híperparámetros\n",
        "from sklearn.model_selection import GridSearchCV\n",
        "\n",
        "#Se define el modelo de regresion logística\n",
        "modeloLRcountgrid = LogisticRegression(max_iter=1000)\n",
        "\n",
        "#Se definen los híperparámetros de búsqueda\n",
        "dicc_grid_LR = {'C': [0.001, 0.005, 0.01, 0.015, 0.02]\n",
        "             }\n",
        "\n",
        "# Validación cruzada con Regresión Logística\n",
        "scores_LR = cross_val_score(modeloLRcountgrid, trainEmb, train_y, cv=5)\n",
        "mean_score_LR = scores_LR.mean()\n",
        "\n",
        "print(\"Puntaje de rendimiento promedio (Regresión Logística) con validación cruzada:\", mean_score_LR)\n",
        "\n",
        "#Se define el método de grid search\n",
        "grid_modeloLRcount = GridSearchCV(estimator=modeloLRcountgrid, \n",
        "                    param_grid=dicc_grid_LR,\n",
        "                    scoring='accuracy')\n",
        "\n",
        "#Se buscan los mejores hiperparámetros y se entrena el modelo\n",
        "grid_modeloLRcount.fit(trainEmb, train_y)\n",
        "\n",
        "print('Los mejores híperparametros del Modelo de Regresión Logística son:\\n')\n",
        "print('C: {}\\n'.format(grid_modeloLRcount.best_params_['C']))\n",
        "\n",
        "modeloLRcount = grid_modeloLRcount\n",
        "\n",
        "#Se define el modelo de Random Forest\n",
        "modeloRFcountgrid = RandomForestClassifier(max_depth=None)\n",
        "\n",
        "#Se definen los híperparámetros de búsqueda\n",
        "dicc_grid_RF = {'n_estimators': [100, 120, 140],\n",
        "                'criterion': ['gini', 'entropy', 'log_loss'],\n",
        "                'ccp_alpha': [0.005, 0.01, 0.0015],\n",
        "             }\n",
        "\n",
        "# Validación cruzada con Random Forest\n",
        "scores_RF = cross_val_score(modeloRFcountgrid, trainEmb, train_y, cv=5)\n",
        "mean_score_RF = scores_RF.mean()\n",
        "print(\"Puntaje de rendimiento promedio (Random Forest) con validación cruzada:\", mean_score_RF)\n",
        "\n",
        "#Se define el método de grid search\n",
        "grid_modeloRFcount = GridSearchCV(estimator=modeloRFcountgrid, \n",
        "                    param_grid=dicc_grid_RF,\n",
        "                    scoring='accuracy')\n",
        "\n",
        "#Se buscan los mejores hiperparámetros y se entrena el modelo\n",
        "grid_modeloRFcount.fit(trainEmb, train_y)\n",
        "\n",
        "modeloRFcount = grid_modeloRFcount\n",
        "\n",
        "print('Los mejores híperparametros del Modelo de Bosques Aleatorios son:\\n')\n",
        "print('n_estimators: {}\\n'.format(grid_modeloRFcount.best_params_['n_estimators']))\n",
        "print('criterion: {}\\n'.format(grid_modeloRFcount.best_params_['criterion']))\n",
        "print('ccp_alpha: {}\\n'.format(grid_modeloRFcount.best_params_['ccp_alpha']))"
      ],
      "metadata": {
        "id": "tfPhqMQCxxIs"
      },
      "execution_count": null,
      "outputs": []
    },
    {
      "cell_type": "code",
      "source": [
        "#Se imprimen los resultados de exactitud\n",
        "print('LR: Train-accuracy: %.2f%%' % (100*modeloLRcount.score(trainEmb, train_y)))\n",
        "print('LR: Val-accuracy: %2.f%%' % (100*modeloLRcount.score(valEmb, val_y)))\n",
        "\n",
        "print('\\nRF: Train-accuracy: %.2f%%' % (100*modeloRFcount.score(trainEmb, train_y)))\n",
        "print('RF: Val-accuracy: %.2f%%' % (100*modeloRFcount.score(valEmb, val_y)))"
      ],
      "metadata": {
        "id": "8jekEx9Ic_vV"
      },
      "execution_count": null,
      "outputs": []
    },
    {
      "cell_type": "markdown",
      "source": [
        "# **Pregunta 9**\n",
        "Obtener la matriz de confusión e interpretar sus valores."
      ],
      "metadata": {
        "id": "L3jy454oblEv"
      }
    },
    {
      "cell_type": "code",
      "source": [
        "#Se imprimen los resultados del conjunto de prueba y las matrices de confusión para cada modelo\n",
        "print('Test-accuracy con el mejor modelo de Regresión Logística: %.2f%%' % (100*modeloLRcount.score(testEmb, test_y)))\n",
        "\n",
        "from sklearn.metrics import confusion_matrix\n",
        "\n",
        "pred1 = modeloLRcount.predict(testEmb)\n",
        "print('\\nMatriz de confusión con el mejor Regresión Logística:\\n')\n",
        "print(confusion_matrix(test_y, pred1, labels=[0,1]))\n",
        "\n",
        "print('\\nMatriz de confusión con el mejor modelo de Regresión Logística en proporciones:\\n')\n",
        "print(confusion_matrix(test_y, pred1, labels=[0,1]) / pred1.shape[0])\n",
        "\n",
        "print('\\nTest-accuracy con el mejor modelo de Bosques Aleatorios: %.2f%%' % (100*modeloRFcount.score(testEmb, test_y)))\n",
        "\n",
        "pred2 = modeloRFcount.predict(testEmb)\n",
        "print('\\nMatriz de confusión con el mejor Bosques Aleatorios:\\n')\n",
        "print(confusion_matrix(test_y, pred2, labels=[0,1]))\n",
        "\n",
        "print('\\nMatriz de confusión con el mejor modelo de Bosques Aleatorios en proporciones:\\n')\n",
        "print(confusion_matrix(test_y, pred2, labels=[0,1]) / pred2.shape[0])"
      ],
      "metadata": {
        "id": "RGlYDiAof3Wq"
      },
      "execution_count": null,
      "outputs": []
    },
    {
      "cell_type": "markdown",
      "source": [
        "# **Pregunta 10**\n",
        "Comenta con tus compañeros de equipo los pasos realizados en esta actividad e incluyan sus conclusiones finales."
      ],
      "metadata": {
        "id": "q4CmKx0z6NNb"
      }
    },
    {
      "cell_type": "markdown",
      "source": [
        ">>> *Agregar aquí conclusiones del trabajo*\n",
        "\n",
        "Dentro de la limpieza realizada se encontraron algunas validaciones que mejoraron el desempeño del modelo dado que no se procesaron ciertos valores o caracteres que no son relevantes para el estudio y alteran el resultado esperado. Posteriormente, se ejecutaron las particiones de los elementos para el desarrollo de los modelos; para ello, se acotaron los caracteres dentro del diccionario del conjunto de entrenamiento dado que se involucraron únicamente palabras relevantes las cuales tienen una mayor cantidad de frecuencia dentro de los datos. \n",
        "\n",
        "Luego del preprocesamiento anterior, se inició la validación del modelo Fasttext con el fin de identificar la relación que tienen las palabras que contiene el diccionario definido. Luego de inicializarlo, se desarrollaron las funciones requeridas para obtener el promedio de los vectores y de allí otra función que transforme los documentos a vectores embebidos con el fin de asignarles valores a los vectores e identificar la correlación de cada uno entre ellos. \n",
        "\n",
        "Con los procedimientos anteriores, se utilizaron dichos vectores para optimizar los modelos de Random Forest y Linear Regression, obteniendo su desempeño y la validación de estos. Detectando los hiperparámetros requeridos para cada modelo y obteniendo los resultados del desempeño de cada uno, se observó que, el accuracy es ligeramente mayor para ambos modelos con respecto a los resultados obtenidos en la semana anterior. Lo anterior se debe dado que el Fasttext permite una mejor predicción dado que asigna una mejor relación entre las palabras que únicamente valores de 1 y 0 para los caracteres obtenidos, distorsionando el valor del desempeño de los modelos."
      ],
      "metadata": {
        "id": "hGcUa5OhB_oP"
      }
    },
    {
      "cell_type": "markdown",
      "source": [
        "##### **Fuentes bibliográficas y de datos:**\n",
        "- https://raw.githubusercontent.com/Handrum/NLP_EQ_6/main/amazon5.txt\n",
        "- https://raw.githubusercontent.com/Handrum/NLP_EQ_6/main/imdb5.txt\n",
        "- https://raw.githubusercontent.com/Handrum/NLP_EQ_6/main/yelp5.txt\n",
        "- https://fasttext.cc/\n",
        "- https://fasttext.cc/docs/en/crawl-vectors.html\n",
        "- https://code.google.com/archive/p/word2vec/\n",
        "- https://nlp.stanford.edu/projects/glove/\n",
        "- https://medium.com/analytics-vidhya/word2vec-glove-fasttext-and-baseline-word-embeddings-step-by-step-d0489c15d10b"
      ],
      "metadata": {
        "id": "fK_RJaCNBEoj"
      }
    },
    {
      "cell_type": "code",
      "source": [],
      "metadata": {
        "id": "8dXKc3uRBFtS"
      },
      "execution_count": null,
      "outputs": []
    }
  ]
}